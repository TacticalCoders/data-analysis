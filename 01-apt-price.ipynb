{
 "cells": [
  {
   "cell_type": "markdown",
   "id": "9953c6c9",
   "metadata": {},
   "source": [
    "# 전국 신규 민간 아파트 분양가격 분석하기"
   ]
  },
  {
   "cell_type": "markdown",
   "id": "0d8018cc",
   "metadata": {},
   "source": [
    "## 공공데이터 다운로드 후 로드하기"
   ]
  },
  {
   "cell_type": "markdown",
   "id": "7b175883",
   "metadata": {},
   "source": [
    "### 데이터셋 다운로드 받기\n",
    "\n",
    "http://bit.ly/open-data-set-folder\n",
    "\n",
    "* 전국 평균 분양가격(2013~2015)\n",
    "* 전국 평균 분양가격(~2019)           \n",
    "\n",
    "분양가격은 1,000원 단위임."
   ]
  },
  {
   "cell_type": "markdown",
   "id": "e076f61e",
   "metadata": {},
   "source": [
    "### 판다스 import 하기"
   ]
  },
  {
   "cell_type": "code",
   "execution_count": 1,
   "id": "708a4f31",
   "metadata": {},
   "outputs": [],
   "source": [
    "import pandas as pd"
   ]
  },
  {
   "cell_type": "markdown",
   "id": "3bfbca3d",
   "metadata": {},
   "source": [
    "### 파일을 로드해서 변수에 담기"
   ]
  },
  {
   "cell_type": "code",
   "execution_count": 2,
   "id": "66559d5a",
   "metadata": {},
   "outputs": [],
   "source": [
    "# pd.read_csv(\"data/주택도시보증공사_전국 평균 분양가격(2019년 12월).csv\")\n",
    "# UnicodeDecodeError가 발생. 기본은 utf-8, 한국 전산시스템이 한국 완성형 코드인 'EUC-KR'을 사용하기 때문.(2350자만 표현가능)\n",
    "df_last = pd.read_csv(\"data/주택도시보증공사_전국 평균 분양가격(2019년 12월).csv\",encoding=\"euc-kr\") #cp949로 지정해도 가능"
   ]
  },
  {
   "cell_type": "code",
   "execution_count": 3,
   "id": "f79c0cc3",
   "metadata": {},
   "outputs": [
    {
     "data": {
      "text/plain": [
       "(4335, 5)"
      ]
     },
     "execution_count": 3,
     "metadata": {},
     "output_type": "execute_result"
    }
   ],
   "source": [
    "df_last.shape #(행, 열)"
   ]
  },
  {
   "cell_type": "code",
   "execution_count": 4,
   "id": "29bc4d99",
   "metadata": {},
   "outputs": [
    {
     "data": {
      "text/html": [
       "<div>\n",
       "<style scoped>\n",
       "    .dataframe tbody tr th:only-of-type {\n",
       "        vertical-align: middle;\n",
       "    }\n",
       "\n",
       "    .dataframe tbody tr th {\n",
       "        vertical-align: top;\n",
       "    }\n",
       "\n",
       "    .dataframe thead th {\n",
       "        text-align: right;\n",
       "    }\n",
       "</style>\n",
       "<table border=\"1\" class=\"dataframe\">\n",
       "  <thead>\n",
       "    <tr style=\"text-align: right;\">\n",
       "      <th></th>\n",
       "      <th>지역명</th>\n",
       "      <th>규모구분</th>\n",
       "      <th>연도</th>\n",
       "      <th>월</th>\n",
       "      <th>분양가격(㎡)</th>\n",
       "    </tr>\n",
       "  </thead>\n",
       "  <tbody>\n",
       "    <tr>\n",
       "      <th>0</th>\n",
       "      <td>서울</td>\n",
       "      <td>전체</td>\n",
       "      <td>2015</td>\n",
       "      <td>10</td>\n",
       "      <td>5841</td>\n",
       "    </tr>\n",
       "    <tr>\n",
       "      <th>1</th>\n",
       "      <td>서울</td>\n",
       "      <td>전용면적 60㎡이하</td>\n",
       "      <td>2015</td>\n",
       "      <td>10</td>\n",
       "      <td>5652</td>\n",
       "    </tr>\n",
       "    <tr>\n",
       "      <th>2</th>\n",
       "      <td>서울</td>\n",
       "      <td>전용면적 60㎡초과 85㎡이하</td>\n",
       "      <td>2015</td>\n",
       "      <td>10</td>\n",
       "      <td>5882</td>\n",
       "    </tr>\n",
       "    <tr>\n",
       "      <th>3</th>\n",
       "      <td>서울</td>\n",
       "      <td>전용면적 85㎡초과 102㎡이하</td>\n",
       "      <td>2015</td>\n",
       "      <td>10</td>\n",
       "      <td>5721</td>\n",
       "    </tr>\n",
       "    <tr>\n",
       "      <th>4</th>\n",
       "      <td>서울</td>\n",
       "      <td>전용면적 102㎡초과</td>\n",
       "      <td>2015</td>\n",
       "      <td>10</td>\n",
       "      <td>5879</td>\n",
       "    </tr>\n",
       "  </tbody>\n",
       "</table>\n",
       "</div>"
      ],
      "text/plain": [
       "  지역명               규모구분    연도   월 분양가격(㎡)\n",
       "0  서울                 전체  2015  10    5841\n",
       "1  서울         전용면적 60㎡이하  2015  10    5652\n",
       "2  서울   전용면적 60㎡초과 85㎡이하  2015  10    5882\n",
       "3  서울  전용면적 85㎡초과 102㎡이하  2015  10    5721\n",
       "4  서울        전용면적 102㎡초과  2015  10    5879"
      ]
     },
     "execution_count": 4,
     "metadata": {},
     "output_type": "execute_result"
    }
   ],
   "source": [
    "#데이터 미리보기\n",
    "df_last.head() #shift + tab을 누르면 메서드의 도움말을 볼 수 있다."
   ]
  },
  {
   "cell_type": "code",
   "execution_count": 5,
   "id": "836f30e2",
   "metadata": {},
   "outputs": [
    {
     "data": {
      "text/html": [
       "<div>\n",
       "<style scoped>\n",
       "    .dataframe tbody tr th:only-of-type {\n",
       "        vertical-align: middle;\n",
       "    }\n",
       "\n",
       "    .dataframe tbody tr th {\n",
       "        vertical-align: top;\n",
       "    }\n",
       "\n",
       "    .dataframe thead th {\n",
       "        text-align: right;\n",
       "    }\n",
       "</style>\n",
       "<table border=\"1\" class=\"dataframe\">\n",
       "  <thead>\n",
       "    <tr style=\"text-align: right;\">\n",
       "      <th></th>\n",
       "      <th>지역명</th>\n",
       "      <th>규모구분</th>\n",
       "      <th>연도</th>\n",
       "      <th>월</th>\n",
       "      <th>분양가격(㎡)</th>\n",
       "    </tr>\n",
       "  </thead>\n",
       "  <tbody>\n",
       "    <tr>\n",
       "      <th>4330</th>\n",
       "      <td>제주</td>\n",
       "      <td>전체</td>\n",
       "      <td>2019</td>\n",
       "      <td>12</td>\n",
       "      <td>3882</td>\n",
       "    </tr>\n",
       "    <tr>\n",
       "      <th>4331</th>\n",
       "      <td>제주</td>\n",
       "      <td>전용면적 60㎡이하</td>\n",
       "      <td>2019</td>\n",
       "      <td>12</td>\n",
       "      <td>NaN</td>\n",
       "    </tr>\n",
       "    <tr>\n",
       "      <th>4332</th>\n",
       "      <td>제주</td>\n",
       "      <td>전용면적 60㎡초과 85㎡이하</td>\n",
       "      <td>2019</td>\n",
       "      <td>12</td>\n",
       "      <td>3898</td>\n",
       "    </tr>\n",
       "    <tr>\n",
       "      <th>4333</th>\n",
       "      <td>제주</td>\n",
       "      <td>전용면적 85㎡초과 102㎡이하</td>\n",
       "      <td>2019</td>\n",
       "      <td>12</td>\n",
       "      <td>NaN</td>\n",
       "    </tr>\n",
       "    <tr>\n",
       "      <th>4334</th>\n",
       "      <td>제주</td>\n",
       "      <td>전용면적 102㎡초과</td>\n",
       "      <td>2019</td>\n",
       "      <td>12</td>\n",
       "      <td>3601</td>\n",
       "    </tr>\n",
       "  </tbody>\n",
       "</table>\n",
       "</div>"
      ],
      "text/plain": [
       "     지역명               규모구분    연도   월 분양가격(㎡)\n",
       "4330  제주                 전체  2019  12    3882\n",
       "4331  제주         전용면적 60㎡이하  2019  12     NaN\n",
       "4332  제주   전용면적 60㎡초과 85㎡이하  2019  12    3898\n",
       "4333  제주  전용면적 85㎡초과 102㎡이하  2019  12     NaN\n",
       "4334  제주        전용면적 102㎡초과  2019  12    3601"
      ]
     },
     "execution_count": 5,
     "metadata": {},
     "output_type": "execute_result"
    }
   ],
   "source": [
    "df_last.tail()"
   ]
  },
  {
   "cell_type": "code",
   "execution_count": 6,
   "id": "d430261c",
   "metadata": {},
   "outputs": [],
   "source": [
    "df_first = pd.read_csv(\"data/전국 평균 분양가격(2013년 9월부터 2015년 8월까지).csv\",encoding = \"cp949\")"
   ]
  },
  {
   "cell_type": "code",
   "execution_count": 7,
   "id": "bc00f924",
   "metadata": {},
   "outputs": [
    {
     "data": {
      "text/plain": [
       "(17, 22)"
      ]
     },
     "execution_count": 7,
     "metadata": {},
     "output_type": "execute_result"
    }
   ],
   "source": [
    "df_first.shape"
   ]
  },
  {
   "cell_type": "code",
   "execution_count": 8,
   "id": "c1001deb",
   "metadata": {
    "scrolled": true
   },
   "outputs": [
    {
     "data": {
      "text/html": [
       "<div>\n",
       "<style scoped>\n",
       "    .dataframe tbody tr th:only-of-type {\n",
       "        vertical-align: middle;\n",
       "    }\n",
       "\n",
       "    .dataframe tbody tr th {\n",
       "        vertical-align: top;\n",
       "    }\n",
       "\n",
       "    .dataframe thead th {\n",
       "        text-align: right;\n",
       "    }\n",
       "</style>\n",
       "<table border=\"1\" class=\"dataframe\">\n",
       "  <thead>\n",
       "    <tr style=\"text-align: right;\">\n",
       "      <th></th>\n",
       "      <th>지역</th>\n",
       "      <th>2013년12월</th>\n",
       "      <th>2014년1월</th>\n",
       "      <th>2014년2월</th>\n",
       "      <th>2014년3월</th>\n",
       "      <th>2014년4월</th>\n",
       "      <th>2014년5월</th>\n",
       "      <th>2014년6월</th>\n",
       "      <th>2014년7월</th>\n",
       "      <th>2014년8월</th>\n",
       "      <th>...</th>\n",
       "      <th>2014년11월</th>\n",
       "      <th>2014년12월</th>\n",
       "      <th>2015년1월</th>\n",
       "      <th>2015년2월</th>\n",
       "      <th>2015년3월</th>\n",
       "      <th>2015년4월</th>\n",
       "      <th>2015년5월</th>\n",
       "      <th>2015년6월</th>\n",
       "      <th>2015년7월</th>\n",
       "      <th>2015년8월</th>\n",
       "    </tr>\n",
       "  </thead>\n",
       "  <tbody>\n",
       "    <tr>\n",
       "      <th>0</th>\n",
       "      <td>서울</td>\n",
       "      <td>18189</td>\n",
       "      <td>17925</td>\n",
       "      <td>17925</td>\n",
       "      <td>18016</td>\n",
       "      <td>18098</td>\n",
       "      <td>19446</td>\n",
       "      <td>18867</td>\n",
       "      <td>18742</td>\n",
       "      <td>19274</td>\n",
       "      <td>...</td>\n",
       "      <td>20242</td>\n",
       "      <td>20269</td>\n",
       "      <td>20670</td>\n",
       "      <td>20670</td>\n",
       "      <td>19415</td>\n",
       "      <td>18842</td>\n",
       "      <td>18367</td>\n",
       "      <td>18374</td>\n",
       "      <td>18152</td>\n",
       "      <td>18443</td>\n",
       "    </tr>\n",
       "    <tr>\n",
       "      <th>1</th>\n",
       "      <td>부산</td>\n",
       "      <td>8111</td>\n",
       "      <td>8111</td>\n",
       "      <td>9078</td>\n",
       "      <td>8965</td>\n",
       "      <td>9402</td>\n",
       "      <td>9501</td>\n",
       "      <td>9453</td>\n",
       "      <td>9457</td>\n",
       "      <td>9411</td>\n",
       "      <td>...</td>\n",
       "      <td>9208</td>\n",
       "      <td>9208</td>\n",
       "      <td>9204</td>\n",
       "      <td>9235</td>\n",
       "      <td>9279</td>\n",
       "      <td>9327</td>\n",
       "      <td>9345</td>\n",
       "      <td>9515</td>\n",
       "      <td>9559</td>\n",
       "      <td>9581</td>\n",
       "    </tr>\n",
       "    <tr>\n",
       "      <th>2</th>\n",
       "      <td>대구</td>\n",
       "      <td>8080</td>\n",
       "      <td>8080</td>\n",
       "      <td>8077</td>\n",
       "      <td>8101</td>\n",
       "      <td>8267</td>\n",
       "      <td>8274</td>\n",
       "      <td>8360</td>\n",
       "      <td>8360</td>\n",
       "      <td>8370</td>\n",
       "      <td>...</td>\n",
       "      <td>8439</td>\n",
       "      <td>8253</td>\n",
       "      <td>8327</td>\n",
       "      <td>8416</td>\n",
       "      <td>8441</td>\n",
       "      <td>8446</td>\n",
       "      <td>8568</td>\n",
       "      <td>8542</td>\n",
       "      <td>8542</td>\n",
       "      <td>8795</td>\n",
       "    </tr>\n",
       "    <tr>\n",
       "      <th>3</th>\n",
       "      <td>인천</td>\n",
       "      <td>10204</td>\n",
       "      <td>10204</td>\n",
       "      <td>10408</td>\n",
       "      <td>10408</td>\n",
       "      <td>10000</td>\n",
       "      <td>9844</td>\n",
       "      <td>10058</td>\n",
       "      <td>9974</td>\n",
       "      <td>9973</td>\n",
       "      <td>...</td>\n",
       "      <td>10020</td>\n",
       "      <td>10020</td>\n",
       "      <td>10017</td>\n",
       "      <td>9876</td>\n",
       "      <td>9876</td>\n",
       "      <td>9938</td>\n",
       "      <td>10551</td>\n",
       "      <td>10443</td>\n",
       "      <td>10443</td>\n",
       "      <td>10449</td>\n",
       "    </tr>\n",
       "    <tr>\n",
       "      <th>4</th>\n",
       "      <td>광주</td>\n",
       "      <td>6098</td>\n",
       "      <td>7326</td>\n",
       "      <td>7611</td>\n",
       "      <td>7346</td>\n",
       "      <td>7346</td>\n",
       "      <td>7523</td>\n",
       "      <td>7659</td>\n",
       "      <td>7612</td>\n",
       "      <td>7622</td>\n",
       "      <td>...</td>\n",
       "      <td>7752</td>\n",
       "      <td>7748</td>\n",
       "      <td>7752</td>\n",
       "      <td>7756</td>\n",
       "      <td>7861</td>\n",
       "      <td>7914</td>\n",
       "      <td>7877</td>\n",
       "      <td>7881</td>\n",
       "      <td>8089</td>\n",
       "      <td>8231</td>\n",
       "    </tr>\n",
       "  </tbody>\n",
       "</table>\n",
       "<p>5 rows × 22 columns</p>\n",
       "</div>"
      ],
      "text/plain": [
       "   지역  2013년12월  2014년1월  2014년2월  2014년3월  2014년4월  2014년5월  2014년6월  \\\n",
       "0  서울     18189    17925    17925    18016    18098    19446    18867   \n",
       "1  부산      8111     8111     9078     8965     9402     9501     9453   \n",
       "2  대구      8080     8080     8077     8101     8267     8274     8360   \n",
       "3  인천     10204    10204    10408    10408    10000     9844    10058   \n",
       "4  광주      6098     7326     7611     7346     7346     7523     7659   \n",
       "\n",
       "   2014년7월  2014년8월  ...  2014년11월  2014년12월  2015년1월  2015년2월  2015년3월  \\\n",
       "0    18742    19274  ...     20242     20269    20670    20670    19415   \n",
       "1     9457     9411  ...      9208      9208     9204     9235     9279   \n",
       "2     8360     8370  ...      8439      8253     8327     8416     8441   \n",
       "3     9974     9973  ...     10020     10020    10017     9876     9876   \n",
       "4     7612     7622  ...      7752      7748     7752     7756     7861   \n",
       "\n",
       "   2015년4월  2015년5월  2015년6월  2015년7월  2015년8월  \n",
       "0    18842    18367    18374    18152    18443  \n",
       "1     9327     9345     9515     9559     9581  \n",
       "2     8446     8568     8542     8542     8795  \n",
       "3     9938    10551    10443    10443    10449  \n",
       "4     7914     7877     7881     8089     8231  \n",
       "\n",
       "[5 rows x 22 columns]"
      ]
     },
     "execution_count": 8,
     "metadata": {},
     "output_type": "execute_result"
    }
   ],
   "source": [
    "df_first.head()"
   ]
  },
  {
   "cell_type": "code",
   "execution_count": 9,
   "id": "3caaa7ed",
   "metadata": {
    "scrolled": true
   },
   "outputs": [
    {
     "data": {
      "text/html": [
       "<div>\n",
       "<style scoped>\n",
       "    .dataframe tbody tr th:only-of-type {\n",
       "        vertical-align: middle;\n",
       "    }\n",
       "\n",
       "    .dataframe tbody tr th {\n",
       "        vertical-align: top;\n",
       "    }\n",
       "\n",
       "    .dataframe thead th {\n",
       "        text-align: right;\n",
       "    }\n",
       "</style>\n",
       "<table border=\"1\" class=\"dataframe\">\n",
       "  <thead>\n",
       "    <tr style=\"text-align: right;\">\n",
       "      <th></th>\n",
       "      <th>지역</th>\n",
       "      <th>2013년12월</th>\n",
       "      <th>2014년1월</th>\n",
       "      <th>2014년2월</th>\n",
       "      <th>2014년3월</th>\n",
       "      <th>2014년4월</th>\n",
       "      <th>2014년5월</th>\n",
       "      <th>2014년6월</th>\n",
       "      <th>2014년7월</th>\n",
       "      <th>2014년8월</th>\n",
       "      <th>...</th>\n",
       "      <th>2014년11월</th>\n",
       "      <th>2014년12월</th>\n",
       "      <th>2015년1월</th>\n",
       "      <th>2015년2월</th>\n",
       "      <th>2015년3월</th>\n",
       "      <th>2015년4월</th>\n",
       "      <th>2015년5월</th>\n",
       "      <th>2015년6월</th>\n",
       "      <th>2015년7월</th>\n",
       "      <th>2015년8월</th>\n",
       "    </tr>\n",
       "  </thead>\n",
       "  <tbody>\n",
       "    <tr>\n",
       "      <th>12</th>\n",
       "      <td>전북</td>\n",
       "      <td>6282</td>\n",
       "      <td>6281</td>\n",
       "      <td>5946</td>\n",
       "      <td>5966</td>\n",
       "      <td>6277</td>\n",
       "      <td>6306</td>\n",
       "      <td>6351</td>\n",
       "      <td>6319</td>\n",
       "      <td>6436</td>\n",
       "      <td>...</td>\n",
       "      <td>6583</td>\n",
       "      <td>6583</td>\n",
       "      <td>6583</td>\n",
       "      <td>6583</td>\n",
       "      <td>6542</td>\n",
       "      <td>6551</td>\n",
       "      <td>6556</td>\n",
       "      <td>6601</td>\n",
       "      <td>6750</td>\n",
       "      <td>6580</td>\n",
       "    </tr>\n",
       "    <tr>\n",
       "      <th>13</th>\n",
       "      <td>전남</td>\n",
       "      <td>5678</td>\n",
       "      <td>5678</td>\n",
       "      <td>5678</td>\n",
       "      <td>5696</td>\n",
       "      <td>5736</td>\n",
       "      <td>5656</td>\n",
       "      <td>5609</td>\n",
       "      <td>5780</td>\n",
       "      <td>5685</td>\n",
       "      <td>...</td>\n",
       "      <td>5768</td>\n",
       "      <td>5784</td>\n",
       "      <td>5784</td>\n",
       "      <td>5833</td>\n",
       "      <td>5825</td>\n",
       "      <td>5940</td>\n",
       "      <td>6050</td>\n",
       "      <td>6243</td>\n",
       "      <td>6286</td>\n",
       "      <td>6289</td>\n",
       "    </tr>\n",
       "    <tr>\n",
       "      <th>14</th>\n",
       "      <td>경북</td>\n",
       "      <td>6168</td>\n",
       "      <td>6168</td>\n",
       "      <td>6234</td>\n",
       "      <td>6317</td>\n",
       "      <td>6412</td>\n",
       "      <td>6409</td>\n",
       "      <td>6554</td>\n",
       "      <td>6556</td>\n",
       "      <td>6563</td>\n",
       "      <td>...</td>\n",
       "      <td>6881</td>\n",
       "      <td>6989</td>\n",
       "      <td>6992</td>\n",
       "      <td>6953</td>\n",
       "      <td>6997</td>\n",
       "      <td>7006</td>\n",
       "      <td>6966</td>\n",
       "      <td>6887</td>\n",
       "      <td>7035</td>\n",
       "      <td>7037</td>\n",
       "    </tr>\n",
       "    <tr>\n",
       "      <th>15</th>\n",
       "      <td>경남</td>\n",
       "      <td>6473</td>\n",
       "      <td>6485</td>\n",
       "      <td>6502</td>\n",
       "      <td>6610</td>\n",
       "      <td>6599</td>\n",
       "      <td>6610</td>\n",
       "      <td>6615</td>\n",
       "      <td>6613</td>\n",
       "      <td>6606</td>\n",
       "      <td>...</td>\n",
       "      <td>7125</td>\n",
       "      <td>7332</td>\n",
       "      <td>7592</td>\n",
       "      <td>7588</td>\n",
       "      <td>7668</td>\n",
       "      <td>7683</td>\n",
       "      <td>7717</td>\n",
       "      <td>7715</td>\n",
       "      <td>7723</td>\n",
       "      <td>7665</td>\n",
       "    </tr>\n",
       "    <tr>\n",
       "      <th>16</th>\n",
       "      <td>제주</td>\n",
       "      <td>7674</td>\n",
       "      <td>7900</td>\n",
       "      <td>7900</td>\n",
       "      <td>7900</td>\n",
       "      <td>7900</td>\n",
       "      <td>7900</td>\n",
       "      <td>7914</td>\n",
       "      <td>7914</td>\n",
       "      <td>7914</td>\n",
       "      <td>...</td>\n",
       "      <td>7724</td>\n",
       "      <td>7739</td>\n",
       "      <td>7739</td>\n",
       "      <td>7739</td>\n",
       "      <td>7826</td>\n",
       "      <td>7285</td>\n",
       "      <td>7285</td>\n",
       "      <td>7343</td>\n",
       "      <td>7343</td>\n",
       "      <td>7343</td>\n",
       "    </tr>\n",
       "  </tbody>\n",
       "</table>\n",
       "<p>5 rows × 22 columns</p>\n",
       "</div>"
      ],
      "text/plain": [
       "    지역  2013년12월  2014년1월  2014년2월  2014년3월  2014년4월  2014년5월  2014년6월  \\\n",
       "12  전북      6282     6281     5946     5966     6277     6306     6351   \n",
       "13  전남      5678     5678     5678     5696     5736     5656     5609   \n",
       "14  경북      6168     6168     6234     6317     6412     6409     6554   \n",
       "15  경남      6473     6485     6502     6610     6599     6610     6615   \n",
       "16  제주      7674     7900     7900     7900     7900     7900     7914   \n",
       "\n",
       "    2014년7월  2014년8월  ...  2014년11월  2014년12월  2015년1월  2015년2월  2015년3월  \\\n",
       "12     6319     6436  ...      6583      6583     6583     6583     6542   \n",
       "13     5780     5685  ...      5768      5784     5784     5833     5825   \n",
       "14     6556     6563  ...      6881      6989     6992     6953     6997   \n",
       "15     6613     6606  ...      7125      7332     7592     7588     7668   \n",
       "16     7914     7914  ...      7724      7739     7739     7739     7826   \n",
       "\n",
       "    2015년4월  2015년5월  2015년6월  2015년7월  2015년8월  \n",
       "12     6551     6556     6601     6750     6580  \n",
       "13     5940     6050     6243     6286     6289  \n",
       "14     7006     6966     6887     7035     7037  \n",
       "15     7683     7717     7715     7723     7665  \n",
       "16     7285     7285     7343     7343     7343  \n",
       "\n",
       "[5 rows x 22 columns]"
      ]
     },
     "execution_count": 9,
     "metadata": {},
     "output_type": "execute_result"
    }
   ],
   "source": [
    "df_first.tail()"
   ]
  },
  {
   "cell_type": "markdown",
   "id": "df53d508",
   "metadata": {},
   "source": [
    "## 데이터 요약하기"
   ]
  },
  {
   "cell_type": "code",
   "execution_count": 10,
   "id": "d4a53917",
   "metadata": {
    "scrolled": true
   },
   "outputs": [
    {
     "name": "stdout",
     "output_type": "stream",
     "text": [
      "<class 'pandas.core.frame.DataFrame'>\n",
      "RangeIndex: 4335 entries, 0 to 4334\n",
      "Data columns (total 5 columns):\n",
      " #   Column   Non-Null Count  Dtype \n",
      "---  ------   --------------  ----- \n",
      " 0   지역명      4335 non-null   object\n",
      " 1   규모구분     4335 non-null   object\n",
      " 2   연도       4335 non-null   int64 \n",
      " 3   월        4335 non-null   int64 \n",
      " 4   분양가격(㎡)  4058 non-null   object\n",
      "dtypes: int64(2), object(3)\n",
      "memory usage: 169.5+ KB\n"
     ]
    }
   ],
   "source": [
    "df_last.info()"
   ]
  },
  {
   "cell_type": "markdown",
   "id": "3ad939e0",
   "metadata": {},
   "source": [
    "분양가격은 결측치 때문에 개수가 다르다."
   ]
  },
  {
   "cell_type": "markdown",
   "id": "887108d1",
   "metadata": {},
   "source": [
    "### 결측치 보기"
   ]
  },
  {
   "cell_type": "code",
   "execution_count": 11,
   "id": "97af13e1",
   "metadata": {
    "scrolled": true
   },
   "outputs": [
    {
     "data": {
      "text/plain": [
       "True"
      ]
     },
     "execution_count": 11,
     "metadata": {},
     "output_type": "execute_result"
    }
   ],
   "source": [
    "True == 1"
   ]
  },
  {
   "cell_type": "code",
   "execution_count": 12,
   "id": "5b578771",
   "metadata": {},
   "outputs": [
    {
     "data": {
      "text/plain": [
       "True"
      ]
     },
     "execution_count": 12,
     "metadata": {},
     "output_type": "execute_result"
    }
   ],
   "source": [
    "False == 0"
   ]
  },
  {
   "cell_type": "code",
   "execution_count": 13,
   "id": "d275b502",
   "metadata": {},
   "outputs": [
    {
     "data": {
      "text/plain": [
       "2"
      ]
     },
     "execution_count": 13,
     "metadata": {},
     "output_type": "execute_result"
    }
   ],
   "source": [
    "True + True + False"
   ]
  },
  {
   "cell_type": "code",
   "execution_count": 14,
   "id": "99aac9a6",
   "metadata": {},
   "outputs": [
    {
     "data": {
      "text/html": [
       "<div>\n",
       "<style scoped>\n",
       "    .dataframe tbody tr th:only-of-type {\n",
       "        vertical-align: middle;\n",
       "    }\n",
       "\n",
       "    .dataframe tbody tr th {\n",
       "        vertical-align: top;\n",
       "    }\n",
       "\n",
       "    .dataframe thead th {\n",
       "        text-align: right;\n",
       "    }\n",
       "</style>\n",
       "<table border=\"1\" class=\"dataframe\">\n",
       "  <thead>\n",
       "    <tr style=\"text-align: right;\">\n",
       "      <th></th>\n",
       "      <th>지역명</th>\n",
       "      <th>규모구분</th>\n",
       "      <th>연도</th>\n",
       "      <th>월</th>\n",
       "      <th>분양가격(㎡)</th>\n",
       "    </tr>\n",
       "  </thead>\n",
       "  <tbody>\n",
       "    <tr>\n",
       "      <th>0</th>\n",
       "      <td>False</td>\n",
       "      <td>False</td>\n",
       "      <td>False</td>\n",
       "      <td>False</td>\n",
       "      <td>False</td>\n",
       "    </tr>\n",
       "    <tr>\n",
       "      <th>1</th>\n",
       "      <td>False</td>\n",
       "      <td>False</td>\n",
       "      <td>False</td>\n",
       "      <td>False</td>\n",
       "      <td>False</td>\n",
       "    </tr>\n",
       "    <tr>\n",
       "      <th>2</th>\n",
       "      <td>False</td>\n",
       "      <td>False</td>\n",
       "      <td>False</td>\n",
       "      <td>False</td>\n",
       "      <td>False</td>\n",
       "    </tr>\n",
       "    <tr>\n",
       "      <th>3</th>\n",
       "      <td>False</td>\n",
       "      <td>False</td>\n",
       "      <td>False</td>\n",
       "      <td>False</td>\n",
       "      <td>False</td>\n",
       "    </tr>\n",
       "    <tr>\n",
       "      <th>4</th>\n",
       "      <td>False</td>\n",
       "      <td>False</td>\n",
       "      <td>False</td>\n",
       "      <td>False</td>\n",
       "      <td>False</td>\n",
       "    </tr>\n",
       "    <tr>\n",
       "      <th>...</th>\n",
       "      <td>...</td>\n",
       "      <td>...</td>\n",
       "      <td>...</td>\n",
       "      <td>...</td>\n",
       "      <td>...</td>\n",
       "    </tr>\n",
       "    <tr>\n",
       "      <th>4330</th>\n",
       "      <td>False</td>\n",
       "      <td>False</td>\n",
       "      <td>False</td>\n",
       "      <td>False</td>\n",
       "      <td>False</td>\n",
       "    </tr>\n",
       "    <tr>\n",
       "      <th>4331</th>\n",
       "      <td>False</td>\n",
       "      <td>False</td>\n",
       "      <td>False</td>\n",
       "      <td>False</td>\n",
       "      <td>True</td>\n",
       "    </tr>\n",
       "    <tr>\n",
       "      <th>4332</th>\n",
       "      <td>False</td>\n",
       "      <td>False</td>\n",
       "      <td>False</td>\n",
       "      <td>False</td>\n",
       "      <td>False</td>\n",
       "    </tr>\n",
       "    <tr>\n",
       "      <th>4333</th>\n",
       "      <td>False</td>\n",
       "      <td>False</td>\n",
       "      <td>False</td>\n",
       "      <td>False</td>\n",
       "      <td>True</td>\n",
       "    </tr>\n",
       "    <tr>\n",
       "      <th>4334</th>\n",
       "      <td>False</td>\n",
       "      <td>False</td>\n",
       "      <td>False</td>\n",
       "      <td>False</td>\n",
       "      <td>False</td>\n",
       "    </tr>\n",
       "  </tbody>\n",
       "</table>\n",
       "<p>4335 rows × 5 columns</p>\n",
       "</div>"
      ],
      "text/plain": [
       "        지역명   규모구분     연도      월  분양가격(㎡)\n",
       "0     False  False  False  False    False\n",
       "1     False  False  False  False    False\n",
       "2     False  False  False  False    False\n",
       "3     False  False  False  False    False\n",
       "4     False  False  False  False    False\n",
       "...     ...    ...    ...    ...      ...\n",
       "4330  False  False  False  False    False\n",
       "4331  False  False  False  False     True\n",
       "4332  False  False  False  False    False\n",
       "4333  False  False  False  False     True\n",
       "4334  False  False  False  False    False\n",
       "\n",
       "[4335 rows x 5 columns]"
      ]
     },
     "execution_count": 14,
     "metadata": {},
     "output_type": "execute_result"
    }
   ],
   "source": [
    "df_last.isnull()"
   ]
  },
  {
   "cell_type": "code",
   "execution_count": 15,
   "id": "3536df33",
   "metadata": {},
   "outputs": [
    {
     "data": {
      "text/plain": [
       "지역명          0\n",
       "규모구분         0\n",
       "연도           0\n",
       "월            0\n",
       "분양가격(㎡)    277\n",
       "dtype: int64"
      ]
     },
     "execution_count": 15,
     "metadata": {},
     "output_type": "execute_result"
    }
   ],
   "source": [
    "df_last.isnull().sum()"
   ]
  },
  {
   "cell_type": "code",
   "execution_count": 16,
   "id": "ea0d5109",
   "metadata": {},
   "outputs": [
    {
     "data": {
      "text/plain": [
       "지역명          0\n",
       "규모구분         0\n",
       "연도           0\n",
       "월            0\n",
       "분양가격(㎡)    277\n",
       "dtype: int64"
      ]
     },
     "execution_count": 16,
     "metadata": {},
     "output_type": "execute_result"
    }
   ],
   "source": [
    "df_last.isna().sum() # innull()과 결과는 동일"
   ]
  },
  {
   "cell_type": "markdown",
   "id": "d7bceb24",
   "metadata": {},
   "source": [
    " ### 데이터 타입 변경\n",
    " 분양가격이 object(문자) 타입으로 되어있다. 문자열 타입은 계산을 할 수 없기에(sum, avg값 등) 수치 데이터로 변경해준다. 그런데 결측치가 섞여 있으면 변환이 제대로 되지 않는다. 그래서 pd.to_numeric을 사용하여 데이터의 타입을 변경해주어야 한다."
   ]
  },
  {
   "cell_type": "code",
   "execution_count": 17,
   "id": "7f51acb3",
   "metadata": {},
   "outputs": [
    {
     "data": {
      "text/plain": [
       "0       5841\n",
       "1       5652\n",
       "2       5882\n",
       "3       5721\n",
       "4       5879\n",
       "        ... \n",
       "4330    3882\n",
       "4331     NaN\n",
       "4332    3898\n",
       "4333     NaN\n",
       "4334    3601\n",
       "Name: 분양가격(㎡), Length: 4335, dtype: object"
      ]
     },
     "execution_count": 17,
     "metadata": {},
     "output_type": "execute_result"
    }
   ],
   "source": [
    "df_last[\"분양가격(㎡)\"] #분양가격 열만 보기"
   ]
  },
  {
   "cell_type": "code",
   "execution_count": 18,
   "id": "e8dba238",
   "metadata": {},
   "outputs": [],
   "source": [
    "# df_last[\"분양가격(㎡)\"].astype(int) -> 결측치 때문에 ValueError가 발생"
   ]
  },
  {
   "cell_type": "code",
   "execution_count": 19,
   "id": "08b52013",
   "metadata": {},
   "outputs": [],
   "source": [
    "# pd.to_numeric(df_last[\"분양가격(㎡)\"]) -> 에러발생"
   ]
  },
  {
   "cell_type": "code",
   "execution_count": 20,
   "id": "9fd65302",
   "metadata": {},
   "outputs": [
    {
     "data": {
      "text/plain": [
       "0       5841.0\n",
       "1       5652.0\n",
       "2       5882.0\n",
       "3       5721.0\n",
       "4       5879.0\n",
       "         ...  \n",
       "4330    3882.0\n",
       "4331       NaN\n",
       "4332    3898.0\n",
       "4333       NaN\n",
       "4334    3601.0\n",
       "Name: 분양가격(㎡), Length: 4335, dtype: float64"
      ]
     },
     "execution_count": 20,
     "metadata": {},
     "output_type": "execute_result"
    }
   ],
   "source": [
    "pd.to_numeric(df_last[\"분양가격(㎡)\"], errors='coerce')"
   ]
  },
  {
   "cell_type": "markdown",
   "id": "7f6936dd",
   "metadata": {},
   "source": [
    "왜 float로 나오는가?"
   ]
  },
  {
   "cell_type": "code",
   "execution_count": 21,
   "id": "e1fca3bd",
   "metadata": {},
   "outputs": [
    {
     "name": "stderr",
     "output_type": "stream",
     "text": [
      "C:\\Users\\Study\\AppData\\Local\\Temp/ipykernel_7720/3367481099.py:1: FutureWarning: The pandas.np module is deprecated and will be removed from pandas in a future version. Import numpy directly instead\n",
      "  type(pd.np.nan) #pandas에 내장된 numpy의 nan이 float형이기 떄문에\n"
     ]
    },
    {
     "data": {
      "text/plain": [
       "float"
      ]
     },
     "execution_count": 21,
     "metadata": {},
     "output_type": "execute_result"
    }
   ],
   "source": [
    "type(pd.np.nan) #pandas에 내장된 numpy의 nan이 float형이기 떄문에"
   ]
  },
  {
   "cell_type": "code",
   "execution_count": 22,
   "id": "ed95781e",
   "metadata": {},
   "outputs": [],
   "source": [
    "df_last[\"분양가격\"] = pd.to_numeric(df_last[\"분양가격(㎡)\"], errors='coerce')"
   ]
  },
  {
   "cell_type": "code",
   "execution_count": 23,
   "id": "304334a7",
   "metadata": {},
   "outputs": [
    {
     "data": {
      "text/plain": [
       "3238.128632802628"
      ]
     },
     "execution_count": 23,
     "metadata": {},
     "output_type": "execute_result"
    }
   ],
   "source": [
    "df_last[\"분양가격\"].mean() #평균"
   ]
  },
  {
   "cell_type": "code",
   "execution_count": 24,
   "id": "5d071373",
   "metadata": {},
   "outputs": [
    {
     "data": {
      "text/plain": [
       "12813275.0"
      ]
     },
     "execution_count": 24,
     "metadata": {},
     "output_type": "execute_result"
    }
   ],
   "source": [
    "df_last[\"분양가격\"].sum() #합"
   ]
  },
  {
   "cell_type": "code",
   "execution_count": 25,
   "id": "4511b6b1",
   "metadata": {},
   "outputs": [
    {
     "data": {
      "text/plain": [
       "12728.0"
      ]
     },
     "execution_count": 25,
     "metadata": {},
     "output_type": "execute_result"
    }
   ],
   "source": [
    "df_last[\"분양가격\"].max() #최댓값"
   ]
  },
  {
   "cell_type": "markdown",
   "id": "87e9162c",
   "metadata": {},
   "source": [
    "### 평당분양가격 구하기\n",
    "2013년부터의 데이터는 평당분양가격 기준인데 반해, 최근데이터는 1제곱미터당 평균분양가격이기 때문에 단위를 똑같이 만들어줄 필요가 있다."
   ]
  },
  {
   "cell_type": "code",
   "execution_count": 26,
   "id": "11711433",
   "metadata": {},
   "outputs": [
    {
     "data": {
      "text/plain": [
       "0       19275.3\n",
       "1       18651.6\n",
       "2       19410.6\n",
       "3       18879.3\n",
       "4       19400.7\n",
       "         ...   \n",
       "4330    12810.6\n",
       "4331        NaN\n",
       "4332    12863.4\n",
       "4333        NaN\n",
       "4334    11883.3\n",
       "Name: 분양가격, Length: 4335, dtype: float64"
      ]
     },
     "execution_count": 26,
     "metadata": {},
     "output_type": "execute_result"
    }
   ],
   "source": [
    "df_last[\"분양가격\"] * 3.3"
   ]
  },
  {
   "cell_type": "code",
   "execution_count": 27,
   "id": "599712cb",
   "metadata": {},
   "outputs": [
    {
     "data": {
      "text/html": [
       "<div>\n",
       "<style scoped>\n",
       "    .dataframe tbody tr th:only-of-type {\n",
       "        vertical-align: middle;\n",
       "    }\n",
       "\n",
       "    .dataframe tbody tr th {\n",
       "        vertical-align: top;\n",
       "    }\n",
       "\n",
       "    .dataframe thead th {\n",
       "        text-align: right;\n",
       "    }\n",
       "</style>\n",
       "<table border=\"1\" class=\"dataframe\">\n",
       "  <thead>\n",
       "    <tr style=\"text-align: right;\">\n",
       "      <th></th>\n",
       "      <th>지역명</th>\n",
       "      <th>규모구분</th>\n",
       "      <th>연도</th>\n",
       "      <th>월</th>\n",
       "      <th>분양가격(㎡)</th>\n",
       "      <th>분양가격</th>\n",
       "      <th>평당분양가격</th>\n",
       "    </tr>\n",
       "  </thead>\n",
       "  <tbody>\n",
       "    <tr>\n",
       "      <th>0</th>\n",
       "      <td>서울</td>\n",
       "      <td>전체</td>\n",
       "      <td>2015</td>\n",
       "      <td>10</td>\n",
       "      <td>5841</td>\n",
       "      <td>5841.0</td>\n",
       "      <td>19275.3</td>\n",
       "    </tr>\n",
       "    <tr>\n",
       "      <th>1</th>\n",
       "      <td>서울</td>\n",
       "      <td>전용면적 60㎡이하</td>\n",
       "      <td>2015</td>\n",
       "      <td>10</td>\n",
       "      <td>5652</td>\n",
       "      <td>5652.0</td>\n",
       "      <td>18651.6</td>\n",
       "    </tr>\n",
       "    <tr>\n",
       "      <th>2</th>\n",
       "      <td>서울</td>\n",
       "      <td>전용면적 60㎡초과 85㎡이하</td>\n",
       "      <td>2015</td>\n",
       "      <td>10</td>\n",
       "      <td>5882</td>\n",
       "      <td>5882.0</td>\n",
       "      <td>19410.6</td>\n",
       "    </tr>\n",
       "    <tr>\n",
       "      <th>3</th>\n",
       "      <td>서울</td>\n",
       "      <td>전용면적 85㎡초과 102㎡이하</td>\n",
       "      <td>2015</td>\n",
       "      <td>10</td>\n",
       "      <td>5721</td>\n",
       "      <td>5721.0</td>\n",
       "      <td>18879.3</td>\n",
       "    </tr>\n",
       "    <tr>\n",
       "      <th>4</th>\n",
       "      <td>서울</td>\n",
       "      <td>전용면적 102㎡초과</td>\n",
       "      <td>2015</td>\n",
       "      <td>10</td>\n",
       "      <td>5879</td>\n",
       "      <td>5879.0</td>\n",
       "      <td>19400.7</td>\n",
       "    </tr>\n",
       "    <tr>\n",
       "      <th>...</th>\n",
       "      <td>...</td>\n",
       "      <td>...</td>\n",
       "      <td>...</td>\n",
       "      <td>...</td>\n",
       "      <td>...</td>\n",
       "      <td>...</td>\n",
       "      <td>...</td>\n",
       "    </tr>\n",
       "    <tr>\n",
       "      <th>4330</th>\n",
       "      <td>제주</td>\n",
       "      <td>전체</td>\n",
       "      <td>2019</td>\n",
       "      <td>12</td>\n",
       "      <td>3882</td>\n",
       "      <td>3882.0</td>\n",
       "      <td>12810.6</td>\n",
       "    </tr>\n",
       "    <tr>\n",
       "      <th>4331</th>\n",
       "      <td>제주</td>\n",
       "      <td>전용면적 60㎡이하</td>\n",
       "      <td>2019</td>\n",
       "      <td>12</td>\n",
       "      <td>NaN</td>\n",
       "      <td>NaN</td>\n",
       "      <td>NaN</td>\n",
       "    </tr>\n",
       "    <tr>\n",
       "      <th>4332</th>\n",
       "      <td>제주</td>\n",
       "      <td>전용면적 60㎡초과 85㎡이하</td>\n",
       "      <td>2019</td>\n",
       "      <td>12</td>\n",
       "      <td>3898</td>\n",
       "      <td>3898.0</td>\n",
       "      <td>12863.4</td>\n",
       "    </tr>\n",
       "    <tr>\n",
       "      <th>4333</th>\n",
       "      <td>제주</td>\n",
       "      <td>전용면적 85㎡초과 102㎡이하</td>\n",
       "      <td>2019</td>\n",
       "      <td>12</td>\n",
       "      <td>NaN</td>\n",
       "      <td>NaN</td>\n",
       "      <td>NaN</td>\n",
       "    </tr>\n",
       "    <tr>\n",
       "      <th>4334</th>\n",
       "      <td>제주</td>\n",
       "      <td>전용면적 102㎡초과</td>\n",
       "      <td>2019</td>\n",
       "      <td>12</td>\n",
       "      <td>3601</td>\n",
       "      <td>3601.0</td>\n",
       "      <td>11883.3</td>\n",
       "    </tr>\n",
       "  </tbody>\n",
       "</table>\n",
       "<p>4335 rows × 7 columns</p>\n",
       "</div>"
      ],
      "text/plain": [
       "     지역명               규모구분    연도   월 분양가격(㎡)    분양가격   평당분양가격\n",
       "0     서울                 전체  2015  10    5841  5841.0  19275.3\n",
       "1     서울         전용면적 60㎡이하  2015  10    5652  5652.0  18651.6\n",
       "2     서울   전용면적 60㎡초과 85㎡이하  2015  10    5882  5882.0  19410.6\n",
       "3     서울  전용면적 85㎡초과 102㎡이하  2015  10    5721  5721.0  18879.3\n",
       "4     서울        전용면적 102㎡초과  2015  10    5879  5879.0  19400.7\n",
       "...   ..                ...   ...  ..     ...     ...      ...\n",
       "4330  제주                 전체  2019  12    3882  3882.0  12810.6\n",
       "4331  제주         전용면적 60㎡이하  2019  12     NaN     NaN      NaN\n",
       "4332  제주   전용면적 60㎡초과 85㎡이하  2019  12    3898  3898.0  12863.4\n",
       "4333  제주  전용면적 85㎡초과 102㎡이하  2019  12     NaN     NaN      NaN\n",
       "4334  제주        전용면적 102㎡초과  2019  12    3601  3601.0  11883.3\n",
       "\n",
       "[4335 rows x 7 columns]"
      ]
     },
     "execution_count": 27,
     "metadata": {},
     "output_type": "execute_result"
    }
   ],
   "source": [
    "df_last[\"평당분양가격\"] = df_last[\"분양가격\"] * 3.3\n",
    "df_last"
   ]
  },
  {
   "cell_type": "markdown",
   "id": "83c66df3",
   "metadata": {},
   "source": [
    "### 분양가격 요약하기 .describe()"
   ]
  },
  {
   "cell_type": "code",
   "execution_count": 28,
   "id": "c59b4fa8",
   "metadata": {},
   "outputs": [
    {
     "name": "stdout",
     "output_type": "stream",
     "text": [
      "<class 'pandas.core.frame.DataFrame'>\n",
      "RangeIndex: 4335 entries, 0 to 4334\n",
      "Data columns (total 7 columns):\n",
      " #   Column   Non-Null Count  Dtype  \n",
      "---  ------   --------------  -----  \n",
      " 0   지역명      4335 non-null   object \n",
      " 1   규모구분     4335 non-null   object \n",
      " 2   연도       4335 non-null   int64  \n",
      " 3   월        4335 non-null   int64  \n",
      " 4   분양가격(㎡)  4058 non-null   object \n",
      " 5   분양가격     3957 non-null   float64\n",
      " 6   평당분양가격   3957 non-null   float64\n",
      "dtypes: float64(2), int64(2), object(3)\n",
      "memory usage: 237.2+ KB\n"
     ]
    }
   ],
   "source": [
    "df_last.info()"
   ]
  },
  {
   "cell_type": "code",
   "execution_count": 29,
   "id": "405ca6a0",
   "metadata": {},
   "outputs": [
    {
     "data": {
      "text/plain": [
       "count     4058\n",
       "unique    1753\n",
       "top       2221\n",
       "freq        17\n",
       "Name: 분양가격(㎡), dtype: object"
      ]
     },
     "execution_count": 29,
     "metadata": {},
     "output_type": "execute_result"
    }
   ],
   "source": [
    "# 변경 전 컬럼인 분양가격(㎡) 요약. \n",
    "df_last[\"분양가격(㎡)\"].describe()"
   ]
  },
  {
   "cell_type": "markdown",
   "id": "a5a5eb33",
   "metadata": {},
   "source": [
    "- unique : 고유한 데이터\n",
    "- top : 가장 빈번하게 등장하는 데이터 -> 2221\n",
    "- freq : 가장 빈번하게 등장한 데이터가 등장한 횟수 -> 2221이 17번 등장했다."
   ]
  },
  {
   "cell_type": "code",
   "execution_count": 30,
   "id": "14000f8e",
   "metadata": {},
   "outputs": [
    {
     "data": {
      "text/plain": [
       "count     3957.000000\n",
       "mean      3238.128633\n",
       "std       1264.309933\n",
       "min       1868.000000\n",
       "25%       2441.000000\n",
       "50%       2874.000000\n",
       "75%       3561.000000\n",
       "max      12728.000000\n",
       "Name: 분양가격, dtype: float64"
      ]
     },
     "execution_count": 30,
     "metadata": {},
     "output_type": "execute_result"
    }
   ],
   "source": [
    "# 수치데이터로 변경된 분양가격 요약.\n",
    "df_last[\"분양가격\"].describe() # float이기 떄문에 요약 결과가 다르게 나온다."
   ]
  },
  {
   "cell_type": "markdown",
   "id": "2ab8a0c2",
   "metadata": {},
   "source": [
    "왜 float에서의 전체 데이터 개수(count)가 더 작은가?\n",
    "-> object에서는 공백 데이터도 결측치가 아니라 데이터가 있는 것으로 간주"
   ]
  },
  {
   "cell_type": "markdown",
   "id": "9733aa99",
   "metadata": {},
   "source": [
    "- mean : 평균값\n",
    "- std : 표준편차\n",
    "- 25% : 제 1사분위수 -> 데이터의 25%가 이 값보다 작거나 같음.\n",
    "- 50% : 제 2사분위수 -> 데이터의 50%가 이 값보다 작거나 같음.\n",
    "- 75% : 제 3사분위수 -> 데이터의 75가 이 값보다 작거나 같음."
   ]
  },
  {
   "cell_type": "markdown",
   "id": "94dc4d24",
   "metadata": {},
   "source": [
    " **.describe()** 에서 중요한 것은 **평균값(mean)과 중앙값(50%)의 차이**\n",
    " \n",
    " 중앙값보다 평균값이 훨씬 높다. -> 최댓값 때문에 평균값이 더 높게 나타났다."
   ]
  },
  {
   "cell_type": "markdown",
   "id": "1149036b",
   "metadata": {},
   "source": [
    "### 문자열 데이터 교체하기('규모구분'->'전용면적')"
   ]
  },
  {
   "cell_type": "markdown",
   "id": "06074952",
   "metadata": {},
   "source": [
    "모든 컬럼이 전용면적을 기준으로 하고, 예외는 '전체'가 유일하기 때문에 '규모구분'을 전용면적으로 변경하는 것이 더 직관적이다.\n",
    "또한 데이터에 중복되는 '전용면적'이라는 문구가 불필요하게 반복되어 메모리의 효율성을 위해서 컬럼명으로 전용면적으로 하고 데이터의 전용면적 문구를 제거하는 것이 좋다."
   ]
  },
  {
   "cell_type": "code",
   "execution_count": 31,
   "id": "a415ad8f",
   "metadata": {},
   "outputs": [
    {
     "data": {
      "text/plain": [
       "array(['전체', '전용면적 60㎡이하', '전용면적 60㎡초과 85㎡이하', '전용면적 85㎡초과 102㎡이하',\n",
       "       '전용면적 102㎡초과'], dtype=object)"
      ]
     },
     "execution_count": 31,
     "metadata": {},
     "output_type": "execute_result"
    }
   ],
   "source": [
    "df_last[\"규모구분\"].unique() "
   ]
  },
  {
   "cell_type": "code",
   "execution_count": 32,
   "id": "2731b8cd",
   "metadata": {},
   "outputs": [
    {
     "data": {
      "text/plain": [
       "0                  전체\n",
       "1               60㎡이하\n",
       "2         60㎡초과 85㎡이하\n",
       "3        85㎡초과 102㎡이하\n",
       "4              102㎡초과\n",
       "            ...      \n",
       "4330               전체\n",
       "4331            60㎡이하\n",
       "4332      60㎡초과 85㎡이하\n",
       "4333     85㎡초과 102㎡이하\n",
       "4334           102㎡초과\n",
       "Name: 규모구분, Length: 4335, dtype: object"
      ]
     },
     "execution_count": 32,
     "metadata": {},
     "output_type": "execute_result"
    }
   ],
   "source": [
    "# 데이터의 특정 문자열을 제거(교체) 하는 법\n",
    "\n",
    "#df_last[\"규모구분\"].replace(\"전용면적\",\"\") <- 바뀌지 않음, 데이터 내부의 문자열이 모두 같아야 하기 때문.\n",
    "\n",
    "df_last[\"규모구분\"].str.replace(\"전용면적\",\"\")"
   ]
  },
  {
   "cell_type": "code",
   "execution_count": 33,
   "id": "1961ba0a",
   "metadata": {},
   "outputs": [
    {
     "data": {
      "text/plain": [
       "0                      전체\n",
       "1              전용면적 60㎡이하\n",
       "2        전용면적 60㎡초과 85㎡이하\n",
       "3       전용면적 85㎡초과 102㎡이하\n",
       "4             전용면적 102㎡초과\n",
       "              ...        \n",
       "4330                   전체\n",
       "4331           전용면적 60㎡이하\n",
       "4332     전용면적 60㎡초과 85㎡이하\n",
       "4333    전용면적 85㎡초과 102㎡이하\n",
       "4334          전용면적 102㎡초과\n",
       "Name: 규모구분, Length: 4335, dtype: object"
      ]
     },
     "execution_count": 33,
     "metadata": {},
     "output_type": "execute_result"
    }
   ],
   "source": [
    "df_last[\"규모구분\"]"
   ]
  },
  {
   "cell_type": "markdown",
   "id": "f0941a4f",
   "metadata": {},
   "source": [
    "바뀌지 않는다. 새로운 컬럼에 써주지 않았기 때문. 따라서 새로운 컬럼을 만들어 거기에 '전용면적'을 제거한 데이터를 담아보자."
   ]
  },
  {
   "cell_type": "code",
   "execution_count": 34,
   "id": "8b24b0f5",
   "metadata": {},
   "outputs": [
    {
     "data": {
      "text/plain": [
       "0             전체\n",
       "1            60㎡\n",
       "2        60㎡~85㎡\n",
       "3       85㎡~102㎡\n",
       "4          102㎡~\n",
       "          ...   \n",
       "4330          전체\n",
       "4331         60㎡\n",
       "4332     60㎡~85㎡\n",
       "4333    85㎡~102㎡\n",
       "4334       102㎡~\n",
       "Name: 전용면적, Length: 4335, dtype: object"
      ]
     },
     "execution_count": 34,
     "metadata": {},
     "output_type": "execute_result"
    }
   ],
   "source": [
    "df_last[\"전용면적\"] = df_last[\"규모구분\"].str.replace(\"전용면적\",\"\")\n",
    "df_last[\"전용면적\"] = df_last[\"전용면적\"].str.replace(\"초과\",\"~\")\n",
    "df_last[\"전용면적\"] = df_last[\"전용면적\"].str.replace(\"이하\",\"\")\n",
    "df_last[\"전용면적\"] = df_last[\"전용면적\"].str.replace(\" \",\"\")\n",
    "df_last[\"전용면적\"] = df_last[\"전용면적\"].str.strip() #앞 뒤 공백제거\n",
    "df_last[\"전용면적\"]"
   ]
  },
  {
   "cell_type": "code",
   "execution_count": 35,
   "id": "aa7764a8",
   "metadata": {},
   "outputs": [
    {
     "data": {
      "text/html": [
       "<div>\n",
       "<style scoped>\n",
       "    .dataframe tbody tr th:only-of-type {\n",
       "        vertical-align: middle;\n",
       "    }\n",
       "\n",
       "    .dataframe tbody tr th {\n",
       "        vertical-align: top;\n",
       "    }\n",
       "\n",
       "    .dataframe thead th {\n",
       "        text-align: right;\n",
       "    }\n",
       "</style>\n",
       "<table border=\"1\" class=\"dataframe\">\n",
       "  <thead>\n",
       "    <tr style=\"text-align: right;\">\n",
       "      <th></th>\n",
       "      <th>지역명</th>\n",
       "      <th>규모구분</th>\n",
       "      <th>연도</th>\n",
       "      <th>월</th>\n",
       "      <th>분양가격(㎡)</th>\n",
       "      <th>분양가격</th>\n",
       "      <th>평당분양가격</th>\n",
       "      <th>전용면적</th>\n",
       "    </tr>\n",
       "  </thead>\n",
       "  <tbody>\n",
       "    <tr>\n",
       "      <th>0</th>\n",
       "      <td>서울</td>\n",
       "      <td>전체</td>\n",
       "      <td>2015</td>\n",
       "      <td>10</td>\n",
       "      <td>5841</td>\n",
       "      <td>5841.0</td>\n",
       "      <td>19275.3</td>\n",
       "      <td>전체</td>\n",
       "    </tr>\n",
       "    <tr>\n",
       "      <th>1</th>\n",
       "      <td>서울</td>\n",
       "      <td>전용면적 60㎡이하</td>\n",
       "      <td>2015</td>\n",
       "      <td>10</td>\n",
       "      <td>5652</td>\n",
       "      <td>5652.0</td>\n",
       "      <td>18651.6</td>\n",
       "      <td>60㎡</td>\n",
       "    </tr>\n",
       "    <tr>\n",
       "      <th>2</th>\n",
       "      <td>서울</td>\n",
       "      <td>전용면적 60㎡초과 85㎡이하</td>\n",
       "      <td>2015</td>\n",
       "      <td>10</td>\n",
       "      <td>5882</td>\n",
       "      <td>5882.0</td>\n",
       "      <td>19410.6</td>\n",
       "      <td>60㎡~85㎡</td>\n",
       "    </tr>\n",
       "    <tr>\n",
       "      <th>3</th>\n",
       "      <td>서울</td>\n",
       "      <td>전용면적 85㎡초과 102㎡이하</td>\n",
       "      <td>2015</td>\n",
       "      <td>10</td>\n",
       "      <td>5721</td>\n",
       "      <td>5721.0</td>\n",
       "      <td>18879.3</td>\n",
       "      <td>85㎡~102㎡</td>\n",
       "    </tr>\n",
       "    <tr>\n",
       "      <th>4</th>\n",
       "      <td>서울</td>\n",
       "      <td>전용면적 102㎡초과</td>\n",
       "      <td>2015</td>\n",
       "      <td>10</td>\n",
       "      <td>5879</td>\n",
       "      <td>5879.0</td>\n",
       "      <td>19400.7</td>\n",
       "      <td>102㎡~</td>\n",
       "    </tr>\n",
       "    <tr>\n",
       "      <th>...</th>\n",
       "      <td>...</td>\n",
       "      <td>...</td>\n",
       "      <td>...</td>\n",
       "      <td>...</td>\n",
       "      <td>...</td>\n",
       "      <td>...</td>\n",
       "      <td>...</td>\n",
       "      <td>...</td>\n",
       "    </tr>\n",
       "    <tr>\n",
       "      <th>4330</th>\n",
       "      <td>제주</td>\n",
       "      <td>전체</td>\n",
       "      <td>2019</td>\n",
       "      <td>12</td>\n",
       "      <td>3882</td>\n",
       "      <td>3882.0</td>\n",
       "      <td>12810.6</td>\n",
       "      <td>전체</td>\n",
       "    </tr>\n",
       "    <tr>\n",
       "      <th>4331</th>\n",
       "      <td>제주</td>\n",
       "      <td>전용면적 60㎡이하</td>\n",
       "      <td>2019</td>\n",
       "      <td>12</td>\n",
       "      <td>NaN</td>\n",
       "      <td>NaN</td>\n",
       "      <td>NaN</td>\n",
       "      <td>60㎡</td>\n",
       "    </tr>\n",
       "    <tr>\n",
       "      <th>4332</th>\n",
       "      <td>제주</td>\n",
       "      <td>전용면적 60㎡초과 85㎡이하</td>\n",
       "      <td>2019</td>\n",
       "      <td>12</td>\n",
       "      <td>3898</td>\n",
       "      <td>3898.0</td>\n",
       "      <td>12863.4</td>\n",
       "      <td>60㎡~85㎡</td>\n",
       "    </tr>\n",
       "    <tr>\n",
       "      <th>4333</th>\n",
       "      <td>제주</td>\n",
       "      <td>전용면적 85㎡초과 102㎡이하</td>\n",
       "      <td>2019</td>\n",
       "      <td>12</td>\n",
       "      <td>NaN</td>\n",
       "      <td>NaN</td>\n",
       "      <td>NaN</td>\n",
       "      <td>85㎡~102㎡</td>\n",
       "    </tr>\n",
       "    <tr>\n",
       "      <th>4334</th>\n",
       "      <td>제주</td>\n",
       "      <td>전용면적 102㎡초과</td>\n",
       "      <td>2019</td>\n",
       "      <td>12</td>\n",
       "      <td>3601</td>\n",
       "      <td>3601.0</td>\n",
       "      <td>11883.3</td>\n",
       "      <td>102㎡~</td>\n",
       "    </tr>\n",
       "  </tbody>\n",
       "</table>\n",
       "<p>4335 rows × 8 columns</p>\n",
       "</div>"
      ],
      "text/plain": [
       "     지역명               규모구분    연도   월 분양가격(㎡)    분양가격   평당분양가격      전용면적\n",
       "0     서울                 전체  2015  10    5841  5841.0  19275.3        전체\n",
       "1     서울         전용면적 60㎡이하  2015  10    5652  5652.0  18651.6       60㎡\n",
       "2     서울   전용면적 60㎡초과 85㎡이하  2015  10    5882  5882.0  19410.6   60㎡~85㎡\n",
       "3     서울  전용면적 85㎡초과 102㎡이하  2015  10    5721  5721.0  18879.3  85㎡~102㎡\n",
       "4     서울        전용면적 102㎡초과  2015  10    5879  5879.0  19400.7     102㎡~\n",
       "...   ..                ...   ...  ..     ...     ...      ...       ...\n",
       "4330  제주                 전체  2019  12    3882  3882.0  12810.6        전체\n",
       "4331  제주         전용면적 60㎡이하  2019  12     NaN     NaN      NaN       60㎡\n",
       "4332  제주   전용면적 60㎡초과 85㎡이하  2019  12    3898  3898.0  12863.4   60㎡~85㎡\n",
       "4333  제주  전용면적 85㎡초과 102㎡이하  2019  12     NaN     NaN      NaN  85㎡~102㎡\n",
       "4334  제주        전용면적 102㎡초과  2019  12    3601  3601.0  11883.3     102㎡~\n",
       "\n",
       "[4335 rows x 8 columns]"
      ]
     },
     "execution_count": 35,
     "metadata": {},
     "output_type": "execute_result"
    }
   ],
   "source": [
    "df_last"
   ]
  },
  {
   "cell_type": "markdown",
   "id": "dcfbe77f",
   "metadata": {},
   "source": [
    "### 사용하지 않는 컬럼 제거하기"
   ]
  },
  {
   "cell_type": "code",
   "execution_count": 36,
   "id": "d268e182",
   "metadata": {},
   "outputs": [
    {
     "data": {
      "text/html": [
       "<div>\n",
       "<style scoped>\n",
       "    .dataframe tbody tr th:only-of-type {\n",
       "        vertical-align: middle;\n",
       "    }\n",
       "\n",
       "    .dataframe tbody tr th {\n",
       "        vertical-align: top;\n",
       "    }\n",
       "\n",
       "    .dataframe thead th {\n",
       "        text-align: right;\n",
       "    }\n",
       "</style>\n",
       "<table border=\"1\" class=\"dataframe\">\n",
       "  <thead>\n",
       "    <tr style=\"text-align: right;\">\n",
       "      <th></th>\n",
       "      <th>지역명</th>\n",
       "      <th>규모구분</th>\n",
       "      <th>연도</th>\n",
       "      <th>월</th>\n",
       "      <th>분양가격(㎡)</th>\n",
       "      <th>분양가격</th>\n",
       "      <th>평당분양가격</th>\n",
       "      <th>전용면적</th>\n",
       "    </tr>\n",
       "  </thead>\n",
       "  <tbody>\n",
       "    <tr>\n",
       "      <th>0</th>\n",
       "      <td>서울</td>\n",
       "      <td>전체</td>\n",
       "      <td>2015</td>\n",
       "      <td>10</td>\n",
       "      <td>5841</td>\n",
       "      <td>5841.0</td>\n",
       "      <td>19275.3</td>\n",
       "      <td>전체</td>\n",
       "    </tr>\n",
       "  </tbody>\n",
       "</table>\n",
       "</div>"
      ],
      "text/plain": [
       "  지역명 규모구분    연도   월 분양가격(㎡)    분양가격   평당분양가격 전용면적\n",
       "0  서울   전체  2015  10    5841  5841.0  19275.3   전체"
      ]
     },
     "execution_count": 36,
     "metadata": {},
     "output_type": "execute_result"
    }
   ],
   "source": [
    "df_last.head(1)"
   ]
  },
  {
   "cell_type": "code",
   "execution_count": 37,
   "id": "8524ddb8",
   "metadata": {},
   "outputs": [],
   "source": [
    "df_last = df_last.drop([\"규모구분\",\"분양가격(㎡)\"],axis=1) #axis 0은 행, axis 1은 열, 0을 하면 규모구분이라는 키가 없기에 오류"
   ]
  },
  {
   "cell_type": "code",
   "execution_count": 38,
   "id": "30457ac7",
   "metadata": {},
   "outputs": [
    {
     "data": {
      "text/html": [
       "<div>\n",
       "<style scoped>\n",
       "    .dataframe tbody tr th:only-of-type {\n",
       "        vertical-align: middle;\n",
       "    }\n",
       "\n",
       "    .dataframe tbody tr th {\n",
       "        vertical-align: top;\n",
       "    }\n",
       "\n",
       "    .dataframe thead th {\n",
       "        text-align: right;\n",
       "    }\n",
       "</style>\n",
       "<table border=\"1\" class=\"dataframe\">\n",
       "  <thead>\n",
       "    <tr style=\"text-align: right;\">\n",
       "      <th></th>\n",
       "      <th>지역명</th>\n",
       "      <th>연도</th>\n",
       "      <th>월</th>\n",
       "      <th>분양가격</th>\n",
       "      <th>평당분양가격</th>\n",
       "      <th>전용면적</th>\n",
       "    </tr>\n",
       "  </thead>\n",
       "  <tbody>\n",
       "    <tr>\n",
       "      <th>0</th>\n",
       "      <td>서울</td>\n",
       "      <td>2015</td>\n",
       "      <td>10</td>\n",
       "      <td>5841.0</td>\n",
       "      <td>19275.3</td>\n",
       "      <td>전체</td>\n",
       "    </tr>\n",
       "    <tr>\n",
       "      <th>1</th>\n",
       "      <td>서울</td>\n",
       "      <td>2015</td>\n",
       "      <td>10</td>\n",
       "      <td>5652.0</td>\n",
       "      <td>18651.6</td>\n",
       "      <td>60㎡</td>\n",
       "    </tr>\n",
       "    <tr>\n",
       "      <th>2</th>\n",
       "      <td>서울</td>\n",
       "      <td>2015</td>\n",
       "      <td>10</td>\n",
       "      <td>5882.0</td>\n",
       "      <td>19410.6</td>\n",
       "      <td>60㎡~85㎡</td>\n",
       "    </tr>\n",
       "    <tr>\n",
       "      <th>3</th>\n",
       "      <td>서울</td>\n",
       "      <td>2015</td>\n",
       "      <td>10</td>\n",
       "      <td>5721.0</td>\n",
       "      <td>18879.3</td>\n",
       "      <td>85㎡~102㎡</td>\n",
       "    </tr>\n",
       "    <tr>\n",
       "      <th>4</th>\n",
       "      <td>서울</td>\n",
       "      <td>2015</td>\n",
       "      <td>10</td>\n",
       "      <td>5879.0</td>\n",
       "      <td>19400.7</td>\n",
       "      <td>102㎡~</td>\n",
       "    </tr>\n",
       "    <tr>\n",
       "      <th>...</th>\n",
       "      <td>...</td>\n",
       "      <td>...</td>\n",
       "      <td>...</td>\n",
       "      <td>...</td>\n",
       "      <td>...</td>\n",
       "      <td>...</td>\n",
       "    </tr>\n",
       "    <tr>\n",
       "      <th>4330</th>\n",
       "      <td>제주</td>\n",
       "      <td>2019</td>\n",
       "      <td>12</td>\n",
       "      <td>3882.0</td>\n",
       "      <td>12810.6</td>\n",
       "      <td>전체</td>\n",
       "    </tr>\n",
       "    <tr>\n",
       "      <th>4331</th>\n",
       "      <td>제주</td>\n",
       "      <td>2019</td>\n",
       "      <td>12</td>\n",
       "      <td>NaN</td>\n",
       "      <td>NaN</td>\n",
       "      <td>60㎡</td>\n",
       "    </tr>\n",
       "    <tr>\n",
       "      <th>4332</th>\n",
       "      <td>제주</td>\n",
       "      <td>2019</td>\n",
       "      <td>12</td>\n",
       "      <td>3898.0</td>\n",
       "      <td>12863.4</td>\n",
       "      <td>60㎡~85㎡</td>\n",
       "    </tr>\n",
       "    <tr>\n",
       "      <th>4333</th>\n",
       "      <td>제주</td>\n",
       "      <td>2019</td>\n",
       "      <td>12</td>\n",
       "      <td>NaN</td>\n",
       "      <td>NaN</td>\n",
       "      <td>85㎡~102㎡</td>\n",
       "    </tr>\n",
       "    <tr>\n",
       "      <th>4334</th>\n",
       "      <td>제주</td>\n",
       "      <td>2019</td>\n",
       "      <td>12</td>\n",
       "      <td>3601.0</td>\n",
       "      <td>11883.3</td>\n",
       "      <td>102㎡~</td>\n",
       "    </tr>\n",
       "  </tbody>\n",
       "</table>\n",
       "<p>4335 rows × 6 columns</p>\n",
       "</div>"
      ],
      "text/plain": [
       "     지역명    연도   월    분양가격   평당분양가격      전용면적\n",
       "0     서울  2015  10  5841.0  19275.3        전체\n",
       "1     서울  2015  10  5652.0  18651.6       60㎡\n",
       "2     서울  2015  10  5882.0  19410.6   60㎡~85㎡\n",
       "3     서울  2015  10  5721.0  18879.3  85㎡~102㎡\n",
       "4     서울  2015  10  5879.0  19400.7     102㎡~\n",
       "...   ..   ...  ..     ...      ...       ...\n",
       "4330  제주  2019  12  3882.0  12810.6        전체\n",
       "4331  제주  2019  12     NaN      NaN       60㎡\n",
       "4332  제주  2019  12  3898.0  12863.4   60㎡~85㎡\n",
       "4333  제주  2019  12     NaN      NaN  85㎡~102㎡\n",
       "4334  제주  2019  12  3601.0  11883.3     102㎡~\n",
       "\n",
       "[4335 rows x 6 columns]"
      ]
     },
     "execution_count": 38,
     "metadata": {},
     "output_type": "execute_result"
    }
   ],
   "source": [
    "df_last"
   ]
  },
  {
   "cell_type": "code",
   "execution_count": 39,
   "id": "ebe37746",
   "metadata": {},
   "outputs": [
    {
     "name": "stdout",
     "output_type": "stream",
     "text": [
      "<class 'pandas.core.frame.DataFrame'>\n",
      "RangeIndex: 4335 entries, 0 to 4334\n",
      "Data columns (total 6 columns):\n",
      " #   Column  Non-Null Count  Dtype  \n",
      "---  ------  --------------  -----  \n",
      " 0   지역명     4335 non-null   object \n",
      " 1   연도      4335 non-null   int64  \n",
      " 2   월       4335 non-null   int64  \n",
      " 3   분양가격    3957 non-null   float64\n",
      " 4   평당분양가격  3957 non-null   float64\n",
      " 5   전용면적    4335 non-null   object \n",
      "dtypes: float64(2), int64(2), object(2)\n",
      "memory usage: 203.3+ KB\n"
     ]
    }
   ],
   "source": [
    "df_last.info() #메모리가 줄은 것을 확인할 수 있다."
   ]
  },
  {
   "cell_type": "markdown",
   "id": "2c320420",
   "metadata": {},
   "source": [
    "### groupby로 데이터 집계하기"
   ]
  },
  {
   "cell_type": "code",
   "execution_count": 40,
   "id": "01895d99",
   "metadata": {},
   "outputs": [
    {
     "data": {
      "text/plain": [
       "지역명\n",
       "강원     7890.750000\n",
       "경기    13356.895200\n",
       "경남     9268.778138\n",
       "경북     8376.536515\n",
       "광주     9951.535821\n",
       "대구    11980.895455\n",
       "대전    10253.333333\n",
       "부산    12087.121200\n",
       "서울    23599.976400\n",
       "세종     9796.516456\n",
       "울산    10014.902013\n",
       "인천    11915.320732\n",
       "전남     7565.316532\n",
       "전북     7724.235484\n",
       "제주    11241.276712\n",
       "충남     8233.651883\n",
       "충북     7634.655600\n",
       "Name: 평당분양가격, dtype: float64"
      ]
     },
     "execution_count": 40,
     "metadata": {},
     "output_type": "execute_result"
    }
   ],
   "source": [
    "# df.groupby([\"인덱스로 사용할 컬럼명\"])[\"계산할 컬럼 값\"].연산()\n",
    "df_last.groupby([\"지역명\"])[\"평당분양가격\"].mean()"
   ]
  },
  {
   "cell_type": "code",
   "execution_count": 41,
   "id": "c12204a7",
   "metadata": {},
   "outputs": [
    {
     "data": {
      "text/plain": [
       "지역명\n",
       "강원    11873.4\n",
       "경기    18711.0\n",
       "경남    14199.9\n",
       "경북    11408.1\n",
       "광주    16107.3\n",
       "대구    17021.4\n",
       "대전    16094.1\n",
       "부산    15255.9\n",
       "서울    42002.4\n",
       "세종    12972.3\n",
       "울산    11860.2\n",
       "인천    17120.4\n",
       "전남    10074.9\n",
       "전북    10071.6\n",
       "제주    18024.6\n",
       "충남    10563.3\n",
       "충북     9421.5\n",
       "Name: 평당분양가격, dtype: float64"
      ]
     },
     "execution_count": 41,
     "metadata": {},
     "output_type": "execute_result"
    }
   ],
   "source": [
    "df_last.groupby([\"지역명\"])[\"평당분양가격\"].max()"
   ]
  },
  {
   "cell_type": "code",
   "execution_count": 42,
   "id": "21ff73f6",
   "metadata": {},
   "outputs": [
    {
     "data": {
      "text/plain": [
       "지역명\n",
       "강원     6639.6\n",
       "경기    10160.7\n",
       "경남     7260.0\n",
       "경북     6949.8\n",
       "광주     7428.3\n",
       "대구     8259.9\n",
       "대전     8002.5\n",
       "부산     9669.0\n",
       "서울    16701.3\n",
       "세종     8487.6\n",
       "울산     7992.6\n",
       "인천     9537.0\n",
       "전남     6289.8\n",
       "전북     6270.0\n",
       "제주     7342.5\n",
       "충남     6926.7\n",
       "충북     6164.4\n",
       "Name: 평당분양가격, dtype: float64"
      ]
     },
     "execution_count": 42,
     "metadata": {},
     "output_type": "execute_result"
    }
   ],
   "source": [
    "df_last.groupby([\"지역명\"])[\"평당분양가격\"].min()"
   ]
  },
  {
   "cell_type": "code",
   "execution_count": 43,
   "id": "73358dd5",
   "metadata": {},
   "outputs": [
    {
     "data": {
      "text/html": [
       "<div>\n",
       "<style scoped>\n",
       "    .dataframe tbody tr th:only-of-type {\n",
       "        vertical-align: middle;\n",
       "    }\n",
       "\n",
       "    .dataframe tbody tr th {\n",
       "        vertical-align: top;\n",
       "    }\n",
       "\n",
       "    .dataframe thead th {\n",
       "        text-align: right;\n",
       "    }\n",
       "</style>\n",
       "<table border=\"1\" class=\"dataframe\">\n",
       "  <thead>\n",
       "    <tr style=\"text-align: right;\">\n",
       "      <th></th>\n",
       "      <th>count</th>\n",
       "      <th>mean</th>\n",
       "      <th>std</th>\n",
       "      <th>min</th>\n",
       "      <th>25%</th>\n",
       "      <th>50%</th>\n",
       "      <th>75%</th>\n",
       "      <th>max</th>\n",
       "    </tr>\n",
       "    <tr>\n",
       "      <th>지역명</th>\n",
       "      <th></th>\n",
       "      <th></th>\n",
       "      <th></th>\n",
       "      <th></th>\n",
       "      <th></th>\n",
       "      <th></th>\n",
       "      <th></th>\n",
       "      <th></th>\n",
       "    </tr>\n",
       "  </thead>\n",
       "  <tbody>\n",
       "    <tr>\n",
       "      <th>강원</th>\n",
       "      <td>242.0</td>\n",
       "      <td>7890.750000</td>\n",
       "      <td>1044.359840</td>\n",
       "      <td>6639.6</td>\n",
       "      <td>7165.950</td>\n",
       "      <td>7581.75</td>\n",
       "      <td>8281.350</td>\n",
       "      <td>11873.4</td>\n",
       "    </tr>\n",
       "    <tr>\n",
       "      <th>경기</th>\n",
       "      <td>250.0</td>\n",
       "      <td>13356.895200</td>\n",
       "      <td>1969.310711</td>\n",
       "      <td>10160.7</td>\n",
       "      <td>11729.025</td>\n",
       "      <td>13168.65</td>\n",
       "      <td>14600.025</td>\n",
       "      <td>18711.0</td>\n",
       "    </tr>\n",
       "    <tr>\n",
       "      <th>경남</th>\n",
       "      <td>247.0</td>\n",
       "      <td>9268.778138</td>\n",
       "      <td>1356.695327</td>\n",
       "      <td>7260.0</td>\n",
       "      <td>8233.500</td>\n",
       "      <td>9187.20</td>\n",
       "      <td>9698.700</td>\n",
       "      <td>14199.9</td>\n",
       "    </tr>\n",
       "    <tr>\n",
       "      <th>경북</th>\n",
       "      <td>241.0</td>\n",
       "      <td>8376.536515</td>\n",
       "      <td>850.823275</td>\n",
       "      <td>6949.8</td>\n",
       "      <td>7728.600</td>\n",
       "      <td>8335.80</td>\n",
       "      <td>8824.200</td>\n",
       "      <td>11408.1</td>\n",
       "    </tr>\n",
       "    <tr>\n",
       "      <th>광주</th>\n",
       "      <td>201.0</td>\n",
       "      <td>9951.535821</td>\n",
       "      <td>1506.593261</td>\n",
       "      <td>7428.3</td>\n",
       "      <td>9068.400</td>\n",
       "      <td>9527.10</td>\n",
       "      <td>10800.900</td>\n",
       "      <td>16107.3</td>\n",
       "    </tr>\n",
       "    <tr>\n",
       "      <th>대구</th>\n",
       "      <td>242.0</td>\n",
       "      <td>11980.895455</td>\n",
       "      <td>2018.395637</td>\n",
       "      <td>8259.9</td>\n",
       "      <td>10399.950</td>\n",
       "      <td>11904.75</td>\n",
       "      <td>13330.350</td>\n",
       "      <td>17021.4</td>\n",
       "    </tr>\n",
       "    <tr>\n",
       "      <th>대전</th>\n",
       "      <td>198.0</td>\n",
       "      <td>10253.333333</td>\n",
       "      <td>2245.370020</td>\n",
       "      <td>8002.5</td>\n",
       "      <td>8580.000</td>\n",
       "      <td>9401.70</td>\n",
       "      <td>11615.175</td>\n",
       "      <td>16094.1</td>\n",
       "    </tr>\n",
       "    <tr>\n",
       "      <th>부산</th>\n",
       "      <td>250.0</td>\n",
       "      <td>12087.121200</td>\n",
       "      <td>1447.322754</td>\n",
       "      <td>9669.0</td>\n",
       "      <td>10709.325</td>\n",
       "      <td>12338.70</td>\n",
       "      <td>12972.300</td>\n",
       "      <td>15255.9</td>\n",
       "    </tr>\n",
       "    <tr>\n",
       "      <th>서울</th>\n",
       "      <td>250.0</td>\n",
       "      <td>23599.976400</td>\n",
       "      <td>3969.953218</td>\n",
       "      <td>16701.3</td>\n",
       "      <td>21318.825</td>\n",
       "      <td>22497.75</td>\n",
       "      <td>25072.575</td>\n",
       "      <td>42002.4</td>\n",
       "    </tr>\n",
       "    <tr>\n",
       "      <th>세종</th>\n",
       "      <td>237.0</td>\n",
       "      <td>9796.516456</td>\n",
       "      <td>1096.551246</td>\n",
       "      <td>8487.6</td>\n",
       "      <td>8906.700</td>\n",
       "      <td>9197.10</td>\n",
       "      <td>10388.400</td>\n",
       "      <td>12972.3</td>\n",
       "    </tr>\n",
       "    <tr>\n",
       "      <th>울산</th>\n",
       "      <td>149.0</td>\n",
       "      <td>10014.902013</td>\n",
       "      <td>899.543667</td>\n",
       "      <td>7992.6</td>\n",
       "      <td>9484.200</td>\n",
       "      <td>10127.70</td>\n",
       "      <td>10474.200</td>\n",
       "      <td>11860.2</td>\n",
       "    </tr>\n",
       "    <tr>\n",
       "      <th>인천</th>\n",
       "      <td>246.0</td>\n",
       "      <td>11915.320732</td>\n",
       "      <td>1642.963530</td>\n",
       "      <td>9537.0</td>\n",
       "      <td>10808.325</td>\n",
       "      <td>11378.40</td>\n",
       "      <td>12480.600</td>\n",
       "      <td>17120.4</td>\n",
       "    </tr>\n",
       "    <tr>\n",
       "      <th>전남</th>\n",
       "      <td>248.0</td>\n",
       "      <td>7565.316532</td>\n",
       "      <td>773.929820</td>\n",
       "      <td>6289.8</td>\n",
       "      <td>7098.300</td>\n",
       "      <td>7585.05</td>\n",
       "      <td>7923.300</td>\n",
       "      <td>10074.9</td>\n",
       "    </tr>\n",
       "    <tr>\n",
       "      <th>전북</th>\n",
       "      <td>248.0</td>\n",
       "      <td>7724.235484</td>\n",
       "      <td>868.364876</td>\n",
       "      <td>6270.0</td>\n",
       "      <td>7248.450</td>\n",
       "      <td>7659.30</td>\n",
       "      <td>8241.750</td>\n",
       "      <td>10071.6</td>\n",
       "    </tr>\n",
       "    <tr>\n",
       "      <th>제주</th>\n",
       "      <td>219.0</td>\n",
       "      <td>11241.276712</td>\n",
       "      <td>2351.630010</td>\n",
       "      <td>7342.5</td>\n",
       "      <td>9929.700</td>\n",
       "      <td>10787.70</td>\n",
       "      <td>12553.200</td>\n",
       "      <td>18024.6</td>\n",
       "    </tr>\n",
       "    <tr>\n",
       "      <th>충남</th>\n",
       "      <td>239.0</td>\n",
       "      <td>8233.651883</td>\n",
       "      <td>741.954128</td>\n",
       "      <td>6926.7</td>\n",
       "      <td>7585.050</td>\n",
       "      <td>8134.50</td>\n",
       "      <td>8768.100</td>\n",
       "      <td>10563.3</td>\n",
       "    </tr>\n",
       "    <tr>\n",
       "      <th>충북</th>\n",
       "      <td>250.0</td>\n",
       "      <td>7634.655600</td>\n",
       "      <td>796.759331</td>\n",
       "      <td>6164.4</td>\n",
       "      <td>6969.600</td>\n",
       "      <td>7543.80</td>\n",
       "      <td>8250.000</td>\n",
       "      <td>9421.5</td>\n",
       "    </tr>\n",
       "  </tbody>\n",
       "</table>\n",
       "</div>"
      ],
      "text/plain": [
       "     count          mean          std      min        25%       50%  \\\n",
       "지역명                                                                   \n",
       "강원   242.0   7890.750000  1044.359840   6639.6   7165.950   7581.75   \n",
       "경기   250.0  13356.895200  1969.310711  10160.7  11729.025  13168.65   \n",
       "경남   247.0   9268.778138  1356.695327   7260.0   8233.500   9187.20   \n",
       "경북   241.0   8376.536515   850.823275   6949.8   7728.600   8335.80   \n",
       "광주   201.0   9951.535821  1506.593261   7428.3   9068.400   9527.10   \n",
       "대구   242.0  11980.895455  2018.395637   8259.9  10399.950  11904.75   \n",
       "대전   198.0  10253.333333  2245.370020   8002.5   8580.000   9401.70   \n",
       "부산   250.0  12087.121200  1447.322754   9669.0  10709.325  12338.70   \n",
       "서울   250.0  23599.976400  3969.953218  16701.3  21318.825  22497.75   \n",
       "세종   237.0   9796.516456  1096.551246   8487.6   8906.700   9197.10   \n",
       "울산   149.0  10014.902013   899.543667   7992.6   9484.200  10127.70   \n",
       "인천   246.0  11915.320732  1642.963530   9537.0  10808.325  11378.40   \n",
       "전남   248.0   7565.316532   773.929820   6289.8   7098.300   7585.05   \n",
       "전북   248.0   7724.235484   868.364876   6270.0   7248.450   7659.30   \n",
       "제주   219.0  11241.276712  2351.630010   7342.5   9929.700  10787.70   \n",
       "충남   239.0   8233.651883   741.954128   6926.7   7585.050   8134.50   \n",
       "충북   250.0   7634.655600   796.759331   6164.4   6969.600   7543.80   \n",
       "\n",
       "           75%      max  \n",
       "지역명                      \n",
       "강원    8281.350  11873.4  \n",
       "경기   14600.025  18711.0  \n",
       "경남    9698.700  14199.9  \n",
       "경북    8824.200  11408.1  \n",
       "광주   10800.900  16107.3  \n",
       "대구   13330.350  17021.4  \n",
       "대전   11615.175  16094.1  \n",
       "부산   12972.300  15255.9  \n",
       "서울   25072.575  42002.4  \n",
       "세종   10388.400  12972.3  \n",
       "울산   10474.200  11860.2  \n",
       "인천   12480.600  17120.4  \n",
       "전남    7923.300  10074.9  \n",
       "전북    8241.750  10071.6  \n",
       "제주   12553.200  18024.6  \n",
       "충남    8768.100  10563.3  \n",
       "충북    8250.000   9421.5  "
      ]
     },
     "execution_count": 43,
     "metadata": {},
     "output_type": "execute_result"
    }
   ],
   "source": [
    "df_last.groupby([\"지역명\"])[\"평당분양가격\"].describe()"
   ]
  },
  {
   "cell_type": "code",
   "execution_count": 44,
   "id": "24685152",
   "metadata": {},
   "outputs": [
    {
     "data": {
      "text/plain": [
       "전용면적\n",
       "102㎡~       11517.705634\n",
       "60㎡         10375.137421\n",
       "60㎡~85㎡     10271.040071\n",
       "85㎡~102㎡    11097.599573\n",
       "전체          10276.086207\n",
       "Name: 평당분양가격, dtype: float64"
      ]
     },
     "execution_count": 44,
     "metadata": {},
     "output_type": "execute_result"
    }
   ],
   "source": [
    "df_last.groupby([\"전용면적\"])[\"평당분양가격\"].mean() #전용면적별로 평당 분양가격 구하기"
   ]
  },
  {
   "cell_type": "code",
   "execution_count": 45,
   "id": "6e485fe7",
   "metadata": {},
   "outputs": [
    {
     "data": {
      "text/plain": [
       "지역명  전용면적    \n",
       "강원   102㎡~       8311.380000\n",
       "     60㎡         7567.098000\n",
       "     60㎡~85㎡     7485.588000\n",
       "     85㎡~102㎡    8749.557143\n",
       "     전체          7477.536000\n",
       "                    ...     \n",
       "충북   102㎡~       8195.352000\n",
       "     60㎡         7103.118000\n",
       "     60㎡~85㎡     7264.488000\n",
       "     85㎡~102㎡    8391.306000\n",
       "     전체          7219.014000\n",
       "Name: 평당분양가격, Length: 85, dtype: float64"
      ]
     },
     "execution_count": 45,
     "metadata": {},
     "output_type": "execute_result"
    }
   ],
   "source": [
    "# 두 개의 값을 인덱스로 집계하기 (지역명, 전용면적)\n",
    "df_last.groupby([\"지역명\",\"전용면적\"])[\"평당분양가격\"].mean()"
   ]
  },
  {
   "cell_type": "code",
   "execution_count": 46,
   "id": "1ac8d315",
   "metadata": {},
   "outputs": [
    {
     "data": {
      "text/html": [
       "<div>\n",
       "<style scoped>\n",
       "    .dataframe tbody tr th:only-of-type {\n",
       "        vertical-align: middle;\n",
       "    }\n",
       "\n",
       "    .dataframe tbody tr th {\n",
       "        vertical-align: top;\n",
       "    }\n",
       "\n",
       "    .dataframe thead th {\n",
       "        text-align: right;\n",
       "    }\n",
       "</style>\n",
       "<table border=\"1\" class=\"dataframe\">\n",
       "  <thead>\n",
       "    <tr style=\"text-align: right;\">\n",
       "      <th>전용면적</th>\n",
       "      <th>102㎡~</th>\n",
       "      <th>60㎡</th>\n",
       "      <th>60㎡~85㎡</th>\n",
       "      <th>85㎡~102㎡</th>\n",
       "      <th>전체</th>\n",
       "    </tr>\n",
       "    <tr>\n",
       "      <th>지역명</th>\n",
       "      <th></th>\n",
       "      <th></th>\n",
       "      <th></th>\n",
       "      <th></th>\n",
       "      <th></th>\n",
       "    </tr>\n",
       "  </thead>\n",
       "  <tbody>\n",
       "    <tr>\n",
       "      <th>강원</th>\n",
       "      <td>8311.380000</td>\n",
       "      <td>7567.098000</td>\n",
       "      <td>7485.588000</td>\n",
       "      <td>8749.557143</td>\n",
       "      <td>7477.536000</td>\n",
       "    </tr>\n",
       "    <tr>\n",
       "      <th>경기</th>\n",
       "      <td>14771.790000</td>\n",
       "      <td>13251.744000</td>\n",
       "      <td>12523.566000</td>\n",
       "      <td>13677.774000</td>\n",
       "      <td>12559.602000</td>\n",
       "    </tr>\n",
       "    <tr>\n",
       "      <th>경남</th>\n",
       "      <td>10358.363265</td>\n",
       "      <td>8689.175000</td>\n",
       "      <td>8618.676000</td>\n",
       "      <td>10017.612000</td>\n",
       "      <td>8658.672000</td>\n",
       "    </tr>\n",
       "    <tr>\n",
       "      <th>경북</th>\n",
       "      <td>9157.302000</td>\n",
       "      <td>7883.172000</td>\n",
       "      <td>8061.372000</td>\n",
       "      <td>8773.814634</td>\n",
       "      <td>8078.532000</td>\n",
       "    </tr>\n",
       "    <tr>\n",
       "      <th>광주</th>\n",
       "      <td>11041.532432</td>\n",
       "      <td>9430.666667</td>\n",
       "      <td>9910.692000</td>\n",
       "      <td>9296.100000</td>\n",
       "      <td>9903.630000</td>\n",
       "    </tr>\n",
       "    <tr>\n",
       "      <th>대구</th>\n",
       "      <td>13087.338000</td>\n",
       "      <td>11992.068000</td>\n",
       "      <td>11778.690000</td>\n",
       "      <td>11140.642857</td>\n",
       "      <td>11771.298000</td>\n",
       "    </tr>\n",
       "    <tr>\n",
       "      <th>대전</th>\n",
       "      <td>14876.871429</td>\n",
       "      <td>9176.475000</td>\n",
       "      <td>9711.372000</td>\n",
       "      <td>9037.430769</td>\n",
       "      <td>9786.018000</td>\n",
       "    </tr>\n",
       "    <tr>\n",
       "      <th>부산</th>\n",
       "      <td>13208.250000</td>\n",
       "      <td>11353.782000</td>\n",
       "      <td>11864.820000</td>\n",
       "      <td>12072.588000</td>\n",
       "      <td>11936.166000</td>\n",
       "    </tr>\n",
       "    <tr>\n",
       "      <th>서울</th>\n",
       "      <td>23446.038000</td>\n",
       "      <td>23212.794000</td>\n",
       "      <td>22786.830000</td>\n",
       "      <td>25943.874000</td>\n",
       "      <td>22610.346000</td>\n",
       "    </tr>\n",
       "    <tr>\n",
       "      <th>세종</th>\n",
       "      <td>10106.976000</td>\n",
       "      <td>9323.927027</td>\n",
       "      <td>9775.458000</td>\n",
       "      <td>9847.926000</td>\n",
       "      <td>9805.422000</td>\n",
       "    </tr>\n",
       "    <tr>\n",
       "      <th>울산</th>\n",
       "      <td>9974.448000</td>\n",
       "      <td>9202.106897</td>\n",
       "      <td>10502.531707</td>\n",
       "      <td>8861.007692</td>\n",
       "      <td>10492.712195</td>\n",
       "    </tr>\n",
       "    <tr>\n",
       "      <th>인천</th>\n",
       "      <td>14362.030435</td>\n",
       "      <td>11241.318000</td>\n",
       "      <td>11384.406000</td>\n",
       "      <td>11527.560000</td>\n",
       "      <td>11257.026000</td>\n",
       "    </tr>\n",
       "    <tr>\n",
       "      <th>전남</th>\n",
       "      <td>8168.490000</td>\n",
       "      <td>7210.170000</td>\n",
       "      <td>7269.240000</td>\n",
       "      <td>7908.862500</td>\n",
       "      <td>7283.562000</td>\n",
       "    </tr>\n",
       "    <tr>\n",
       "      <th>전북</th>\n",
       "      <td>8193.570000</td>\n",
       "      <td>7609.932000</td>\n",
       "      <td>7271.352000</td>\n",
       "      <td>8275.781250</td>\n",
       "      <td>7292.604000</td>\n",
       "    </tr>\n",
       "    <tr>\n",
       "      <th>제주</th>\n",
       "      <td>10522.787234</td>\n",
       "      <td>14022.221053</td>\n",
       "      <td>10621.314000</td>\n",
       "      <td>10709.082353</td>\n",
       "      <td>10784.994000</td>\n",
       "    </tr>\n",
       "    <tr>\n",
       "      <th>충남</th>\n",
       "      <td>8689.169388</td>\n",
       "      <td>7911.156000</td>\n",
       "      <td>7818.954000</td>\n",
       "      <td>9120.045000</td>\n",
       "      <td>7815.324000</td>\n",
       "    </tr>\n",
       "    <tr>\n",
       "      <th>충북</th>\n",
       "      <td>8195.352000</td>\n",
       "      <td>7103.118000</td>\n",
       "      <td>7264.488000</td>\n",
       "      <td>8391.306000</td>\n",
       "      <td>7219.014000</td>\n",
       "    </tr>\n",
       "  </tbody>\n",
       "</table>\n",
       "</div>"
      ],
      "text/plain": [
       "전용면적         102㎡~           60㎡       60㎡~85㎡      85㎡~102㎡            전체\n",
       "지역명                                                                       \n",
       "강원     8311.380000   7567.098000   7485.588000   8749.557143   7477.536000\n",
       "경기    14771.790000  13251.744000  12523.566000  13677.774000  12559.602000\n",
       "경남    10358.363265   8689.175000   8618.676000  10017.612000   8658.672000\n",
       "경북     9157.302000   7883.172000   8061.372000   8773.814634   8078.532000\n",
       "광주    11041.532432   9430.666667   9910.692000   9296.100000   9903.630000\n",
       "대구    13087.338000  11992.068000  11778.690000  11140.642857  11771.298000\n",
       "대전    14876.871429   9176.475000   9711.372000   9037.430769   9786.018000\n",
       "부산    13208.250000  11353.782000  11864.820000  12072.588000  11936.166000\n",
       "서울    23446.038000  23212.794000  22786.830000  25943.874000  22610.346000\n",
       "세종    10106.976000   9323.927027   9775.458000   9847.926000   9805.422000\n",
       "울산     9974.448000   9202.106897  10502.531707   8861.007692  10492.712195\n",
       "인천    14362.030435  11241.318000  11384.406000  11527.560000  11257.026000\n",
       "전남     8168.490000   7210.170000   7269.240000   7908.862500   7283.562000\n",
       "전북     8193.570000   7609.932000   7271.352000   8275.781250   7292.604000\n",
       "제주    10522.787234  14022.221053  10621.314000  10709.082353  10784.994000\n",
       "충남     8689.169388   7911.156000   7818.954000   9120.045000   7815.324000\n",
       "충북     8195.352000   7103.118000   7264.488000   8391.306000   7219.014000"
      ]
     },
     "execution_count": 46,
     "metadata": {},
     "output_type": "execute_result"
    }
   ],
   "source": [
    "df_last.groupby([\"지역명\",\"전용면적\"])[\"평당분양가격\"].mean().unstack() # \"전용면적\"을 컬럼으로."
   ]
  },
  {
   "cell_type": "code",
   "execution_count": 47,
   "id": "0b1364d6",
   "metadata": {},
   "outputs": [
    {
     "data": {
      "text/html": [
       "<div>\n",
       "<style scoped>\n",
       "    .dataframe tbody tr th:only-of-type {\n",
       "        vertical-align: middle;\n",
       "    }\n",
       "\n",
       "    .dataframe tbody tr th {\n",
       "        vertical-align: top;\n",
       "    }\n",
       "\n",
       "    .dataframe thead th {\n",
       "        text-align: right;\n",
       "    }\n",
       "</style>\n",
       "<table border=\"1\" class=\"dataframe\">\n",
       "  <thead>\n",
       "    <tr style=\"text-align: right;\">\n",
       "      <th>전용면적</th>\n",
       "      <th>102㎡~</th>\n",
       "      <th>60㎡</th>\n",
       "      <th>60㎡~85㎡</th>\n",
       "      <th>85㎡~102㎡</th>\n",
       "      <th>전체</th>\n",
       "    </tr>\n",
       "    <tr>\n",
       "      <th>지역명</th>\n",
       "      <th></th>\n",
       "      <th></th>\n",
       "      <th></th>\n",
       "      <th></th>\n",
       "      <th></th>\n",
       "    </tr>\n",
       "  </thead>\n",
       "  <tbody>\n",
       "    <tr>\n",
       "      <th>강원</th>\n",
       "      <td>8311.0</td>\n",
       "      <td>7567.0</td>\n",
       "      <td>7486.0</td>\n",
       "      <td>8750.0</td>\n",
       "      <td>7478.0</td>\n",
       "    </tr>\n",
       "    <tr>\n",
       "      <th>경기</th>\n",
       "      <td>14772.0</td>\n",
       "      <td>13252.0</td>\n",
       "      <td>12524.0</td>\n",
       "      <td>13678.0</td>\n",
       "      <td>12560.0</td>\n",
       "    </tr>\n",
       "    <tr>\n",
       "      <th>경남</th>\n",
       "      <td>10358.0</td>\n",
       "      <td>8689.0</td>\n",
       "      <td>8619.0</td>\n",
       "      <td>10018.0</td>\n",
       "      <td>8659.0</td>\n",
       "    </tr>\n",
       "    <tr>\n",
       "      <th>경북</th>\n",
       "      <td>9157.0</td>\n",
       "      <td>7883.0</td>\n",
       "      <td>8061.0</td>\n",
       "      <td>8774.0</td>\n",
       "      <td>8079.0</td>\n",
       "    </tr>\n",
       "    <tr>\n",
       "      <th>광주</th>\n",
       "      <td>11042.0</td>\n",
       "      <td>9431.0</td>\n",
       "      <td>9911.0</td>\n",
       "      <td>9296.0</td>\n",
       "      <td>9904.0</td>\n",
       "    </tr>\n",
       "    <tr>\n",
       "      <th>대구</th>\n",
       "      <td>13087.0</td>\n",
       "      <td>11992.0</td>\n",
       "      <td>11779.0</td>\n",
       "      <td>11141.0</td>\n",
       "      <td>11771.0</td>\n",
       "    </tr>\n",
       "    <tr>\n",
       "      <th>대전</th>\n",
       "      <td>14877.0</td>\n",
       "      <td>9176.0</td>\n",
       "      <td>9711.0</td>\n",
       "      <td>9037.0</td>\n",
       "      <td>9786.0</td>\n",
       "    </tr>\n",
       "    <tr>\n",
       "      <th>부산</th>\n",
       "      <td>13208.0</td>\n",
       "      <td>11354.0</td>\n",
       "      <td>11865.0</td>\n",
       "      <td>12073.0</td>\n",
       "      <td>11936.0</td>\n",
       "    </tr>\n",
       "    <tr>\n",
       "      <th>서울</th>\n",
       "      <td>23446.0</td>\n",
       "      <td>23213.0</td>\n",
       "      <td>22787.0</td>\n",
       "      <td>25944.0</td>\n",
       "      <td>22610.0</td>\n",
       "    </tr>\n",
       "    <tr>\n",
       "      <th>세종</th>\n",
       "      <td>10107.0</td>\n",
       "      <td>9324.0</td>\n",
       "      <td>9775.0</td>\n",
       "      <td>9848.0</td>\n",
       "      <td>9805.0</td>\n",
       "    </tr>\n",
       "    <tr>\n",
       "      <th>울산</th>\n",
       "      <td>9974.0</td>\n",
       "      <td>9202.0</td>\n",
       "      <td>10503.0</td>\n",
       "      <td>8861.0</td>\n",
       "      <td>10493.0</td>\n",
       "    </tr>\n",
       "    <tr>\n",
       "      <th>인천</th>\n",
       "      <td>14362.0</td>\n",
       "      <td>11241.0</td>\n",
       "      <td>11384.0</td>\n",
       "      <td>11528.0</td>\n",
       "      <td>11257.0</td>\n",
       "    </tr>\n",
       "    <tr>\n",
       "      <th>전남</th>\n",
       "      <td>8168.0</td>\n",
       "      <td>7210.0</td>\n",
       "      <td>7269.0</td>\n",
       "      <td>7909.0</td>\n",
       "      <td>7284.0</td>\n",
       "    </tr>\n",
       "    <tr>\n",
       "      <th>전북</th>\n",
       "      <td>8194.0</td>\n",
       "      <td>7610.0</td>\n",
       "      <td>7271.0</td>\n",
       "      <td>8276.0</td>\n",
       "      <td>7293.0</td>\n",
       "    </tr>\n",
       "    <tr>\n",
       "      <th>제주</th>\n",
       "      <td>10523.0</td>\n",
       "      <td>14022.0</td>\n",
       "      <td>10621.0</td>\n",
       "      <td>10709.0</td>\n",
       "      <td>10785.0</td>\n",
       "    </tr>\n",
       "    <tr>\n",
       "      <th>충남</th>\n",
       "      <td>8689.0</td>\n",
       "      <td>7911.0</td>\n",
       "      <td>7819.0</td>\n",
       "      <td>9120.0</td>\n",
       "      <td>7815.0</td>\n",
       "    </tr>\n",
       "    <tr>\n",
       "      <th>충북</th>\n",
       "      <td>8195.0</td>\n",
       "      <td>7103.0</td>\n",
       "      <td>7264.0</td>\n",
       "      <td>8391.0</td>\n",
       "      <td>7219.0</td>\n",
       "    </tr>\n",
       "  </tbody>\n",
       "</table>\n",
       "</div>"
      ],
      "text/plain": [
       "전용면적    102㎡~      60㎡  60㎡~85㎡  85㎡~102㎡       전체\n",
       "지역명                                               \n",
       "강원     8311.0   7567.0   7486.0    8750.0   7478.0\n",
       "경기    14772.0  13252.0  12524.0   13678.0  12560.0\n",
       "경남    10358.0   8689.0   8619.0   10018.0   8659.0\n",
       "경북     9157.0   7883.0   8061.0    8774.0   8079.0\n",
       "광주    11042.0   9431.0   9911.0    9296.0   9904.0\n",
       "대구    13087.0  11992.0  11779.0   11141.0  11771.0\n",
       "대전    14877.0   9176.0   9711.0    9037.0   9786.0\n",
       "부산    13208.0  11354.0  11865.0   12073.0  11936.0\n",
       "서울    23446.0  23213.0  22787.0   25944.0  22610.0\n",
       "세종    10107.0   9324.0   9775.0    9848.0   9805.0\n",
       "울산     9974.0   9202.0  10503.0    8861.0  10493.0\n",
       "인천    14362.0  11241.0  11384.0   11528.0  11257.0\n",
       "전남     8168.0   7210.0   7269.0    7909.0   7284.0\n",
       "전북     8194.0   7610.0   7271.0    8276.0   7293.0\n",
       "제주    10523.0  14022.0  10621.0   10709.0  10785.0\n",
       "충남     8689.0   7911.0   7819.0    9120.0   7815.0\n",
       "충북     8195.0   7103.0   7264.0    8391.0   7219.0"
      ]
     },
     "execution_count": 47,
     "metadata": {},
     "output_type": "execute_result"
    }
   ],
   "source": [
    "df_last.groupby([\"지역명\",\"전용면적\"])[\"평당분양가격\"].mean().unstack().round() #소수점 제거."
   ]
  },
  {
   "cell_type": "code",
   "execution_count": 48,
   "id": "3cb3a2ce",
   "metadata": {},
   "outputs": [
    {
     "data": {
      "text/html": [
       "<div>\n",
       "<style scoped>\n",
       "    .dataframe tbody tr th:only-of-type {\n",
       "        vertical-align: middle;\n",
       "    }\n",
       "\n",
       "    .dataframe tbody tr th {\n",
       "        vertical-align: top;\n",
       "    }\n",
       "\n",
       "    .dataframe thead th {\n",
       "        text-align: right;\n",
       "    }\n",
       "</style>\n",
       "<table border=\"1\" class=\"dataframe\">\n",
       "  <thead>\n",
       "    <tr style=\"text-align: right;\">\n",
       "      <th>연도</th>\n",
       "      <th>2015</th>\n",
       "      <th>2016</th>\n",
       "      <th>2017</th>\n",
       "      <th>2018</th>\n",
       "      <th>2019</th>\n",
       "    </tr>\n",
       "    <tr>\n",
       "      <th>지역명</th>\n",
       "      <th></th>\n",
       "      <th></th>\n",
       "      <th></th>\n",
       "      <th></th>\n",
       "      <th></th>\n",
       "    </tr>\n",
       "  </thead>\n",
       "  <tbody>\n",
       "    <tr>\n",
       "      <th>강원</th>\n",
       "      <td>7188.0</td>\n",
       "      <td>7163.0</td>\n",
       "      <td>7274.0</td>\n",
       "      <td>8219.0</td>\n",
       "      <td>8934.0</td>\n",
       "    </tr>\n",
       "    <tr>\n",
       "      <th>경기</th>\n",
       "      <td>11061.0</td>\n",
       "      <td>11685.0</td>\n",
       "      <td>12305.0</td>\n",
       "      <td>14258.0</td>\n",
       "      <td>15666.0</td>\n",
       "    </tr>\n",
       "    <tr>\n",
       "      <th>경남</th>\n",
       "      <td>8459.0</td>\n",
       "      <td>8497.0</td>\n",
       "      <td>8787.0</td>\n",
       "      <td>9328.0</td>\n",
       "      <td>10698.0</td>\n",
       "    </tr>\n",
       "    <tr>\n",
       "      <th>경북</th>\n",
       "      <td>7464.0</td>\n",
       "      <td>7753.0</td>\n",
       "      <td>8281.0</td>\n",
       "      <td>8681.0</td>\n",
       "      <td>9050.0</td>\n",
       "    </tr>\n",
       "    <tr>\n",
       "      <th>광주</th>\n",
       "      <td>7917.0</td>\n",
       "      <td>9191.0</td>\n",
       "      <td>9614.0</td>\n",
       "      <td>9527.0</td>\n",
       "      <td>12112.0</td>\n",
       "    </tr>\n",
       "    <tr>\n",
       "      <th>대구</th>\n",
       "      <td>9019.0</td>\n",
       "      <td>10282.0</td>\n",
       "      <td>12207.0</td>\n",
       "      <td>12139.0</td>\n",
       "      <td>14082.0</td>\n",
       "    </tr>\n",
       "    <tr>\n",
       "      <th>대전</th>\n",
       "      <td>8191.0</td>\n",
       "      <td>8911.0</td>\n",
       "      <td>9957.0</td>\n",
       "      <td>10234.0</td>\n",
       "      <td>12619.0</td>\n",
       "    </tr>\n",
       "    <tr>\n",
       "      <th>부산</th>\n",
       "      <td>10377.0</td>\n",
       "      <td>10744.0</td>\n",
       "      <td>11561.0</td>\n",
       "      <td>12890.0</td>\n",
       "      <td>13538.0</td>\n",
       "    </tr>\n",
       "    <tr>\n",
       "      <th>서울</th>\n",
       "      <td>20316.0</td>\n",
       "      <td>21753.0</td>\n",
       "      <td>21831.0</td>\n",
       "      <td>23202.0</td>\n",
       "      <td>28287.0</td>\n",
       "    </tr>\n",
       "    <tr>\n",
       "      <th>세종</th>\n",
       "      <td>8765.0</td>\n",
       "      <td>8858.0</td>\n",
       "      <td>9133.0</td>\n",
       "      <td>10340.0</td>\n",
       "      <td>11299.0</td>\n",
       "    </tr>\n",
       "    <tr>\n",
       "      <th>울산</th>\n",
       "      <td>9368.0</td>\n",
       "      <td>9583.0</td>\n",
       "      <td>10667.0</td>\n",
       "      <td>10241.0</td>\n",
       "      <td>10216.0</td>\n",
       "    </tr>\n",
       "    <tr>\n",
       "      <th>인천</th>\n",
       "      <td>10976.0</td>\n",
       "      <td>11099.0</td>\n",
       "      <td>11641.0</td>\n",
       "      <td>11882.0</td>\n",
       "      <td>13250.0</td>\n",
       "    </tr>\n",
       "    <tr>\n",
       "      <th>전남</th>\n",
       "      <td>6799.0</td>\n",
       "      <td>6937.0</td>\n",
       "      <td>7373.0</td>\n",
       "      <td>7930.0</td>\n",
       "      <td>8219.0</td>\n",
       "    </tr>\n",
       "    <tr>\n",
       "      <th>전북</th>\n",
       "      <td>7110.0</td>\n",
       "      <td>6907.0</td>\n",
       "      <td>7399.0</td>\n",
       "      <td>8175.0</td>\n",
       "      <td>8532.0</td>\n",
       "    </tr>\n",
       "    <tr>\n",
       "      <th>제주</th>\n",
       "      <td>7951.0</td>\n",
       "      <td>9567.0</td>\n",
       "      <td>12567.0</td>\n",
       "      <td>11936.0</td>\n",
       "      <td>11828.0</td>\n",
       "    </tr>\n",
       "    <tr>\n",
       "      <th>충남</th>\n",
       "      <td>7690.0</td>\n",
       "      <td>7958.0</td>\n",
       "      <td>8198.0</td>\n",
       "      <td>8202.0</td>\n",
       "      <td>8749.0</td>\n",
       "    </tr>\n",
       "    <tr>\n",
       "      <th>충북</th>\n",
       "      <td>6829.0</td>\n",
       "      <td>7133.0</td>\n",
       "      <td>7473.0</td>\n",
       "      <td>8149.0</td>\n",
       "      <td>7971.0</td>\n",
       "    </tr>\n",
       "  </tbody>\n",
       "</table>\n",
       "</div>"
      ],
      "text/plain": [
       "연도      2015     2016     2017     2018     2019\n",
       "지역명                                             \n",
       "강원    7188.0   7163.0   7274.0   8219.0   8934.0\n",
       "경기   11061.0  11685.0  12305.0  14258.0  15666.0\n",
       "경남    8459.0   8497.0   8787.0   9328.0  10698.0\n",
       "경북    7464.0   7753.0   8281.0   8681.0   9050.0\n",
       "광주    7917.0   9191.0   9614.0   9527.0  12112.0\n",
       "대구    9019.0  10282.0  12207.0  12139.0  14082.0\n",
       "대전    8191.0   8911.0   9957.0  10234.0  12619.0\n",
       "부산   10377.0  10744.0  11561.0  12890.0  13538.0\n",
       "서울   20316.0  21753.0  21831.0  23202.0  28287.0\n",
       "세종    8765.0   8858.0   9133.0  10340.0  11299.0\n",
       "울산    9368.0   9583.0  10667.0  10241.0  10216.0\n",
       "인천   10976.0  11099.0  11641.0  11882.0  13250.0\n",
       "전남    6799.0   6937.0   7373.0   7930.0   8219.0\n",
       "전북    7110.0   6907.0   7399.0   8175.0   8532.0\n",
       "제주    7951.0   9567.0  12567.0  11936.0  11828.0\n",
       "충남    7690.0   7958.0   8198.0   8202.0   8749.0\n",
       "충북    6829.0   7133.0   7473.0   8149.0   7971.0"
      ]
     },
     "execution_count": 48,
     "metadata": {},
     "output_type": "execute_result"
    }
   ],
   "source": [
    "# 연도별, 지역별 평당분양가격의 평균.\n",
    "g = df_last.groupby([\"연도\",\"지역명\"])[\"평당분양가격\"].mean()\n",
    "g.unstack().round().T #T로 행과 열을 서로 바꿀 수 있다."
   ]
  },
  {
   "cell_type": "markdown",
   "id": "60a6812f",
   "metadata": {},
   "source": [
    "### pivot_table로 데이터 집계하기"
   ]
  },
  {
   "cell_type": "code",
   "execution_count": 49,
   "id": "0741f35b",
   "metadata": {},
   "outputs": [
    {
     "data": {
      "text/html": [
       "<div>\n",
       "<style scoped>\n",
       "    .dataframe tbody tr th:only-of-type {\n",
       "        vertical-align: middle;\n",
       "    }\n",
       "\n",
       "    .dataframe tbody tr th {\n",
       "        vertical-align: top;\n",
       "    }\n",
       "\n",
       "    .dataframe thead th {\n",
       "        text-align: right;\n",
       "    }\n",
       "</style>\n",
       "<table border=\"1\" class=\"dataframe\">\n",
       "  <thead>\n",
       "    <tr style=\"text-align: right;\">\n",
       "      <th></th>\n",
       "      <th>평당분양가격</th>\n",
       "    </tr>\n",
       "    <tr>\n",
       "      <th>지역명</th>\n",
       "      <th></th>\n",
       "    </tr>\n",
       "  </thead>\n",
       "  <tbody>\n",
       "    <tr>\n",
       "      <th>강원</th>\n",
       "      <td>1909561.5</td>\n",
       "    </tr>\n",
       "    <tr>\n",
       "      <th>경기</th>\n",
       "      <td>3339223.8</td>\n",
       "    </tr>\n",
       "    <tr>\n",
       "      <th>경남</th>\n",
       "      <td>2289388.2</td>\n",
       "    </tr>\n",
       "    <tr>\n",
       "      <th>경북</th>\n",
       "      <td>2018745.3</td>\n",
       "    </tr>\n",
       "    <tr>\n",
       "      <th>광주</th>\n",
       "      <td>2000258.7</td>\n",
       "    </tr>\n",
       "    <tr>\n",
       "      <th>대구</th>\n",
       "      <td>2899376.7</td>\n",
       "    </tr>\n",
       "    <tr>\n",
       "      <th>대전</th>\n",
       "      <td>2030160.0</td>\n",
       "    </tr>\n",
       "    <tr>\n",
       "      <th>부산</th>\n",
       "      <td>3021780.3</td>\n",
       "    </tr>\n",
       "    <tr>\n",
       "      <th>서울</th>\n",
       "      <td>5899994.1</td>\n",
       "    </tr>\n",
       "    <tr>\n",
       "      <th>세종</th>\n",
       "      <td>2321774.4</td>\n",
       "    </tr>\n",
       "    <tr>\n",
       "      <th>울산</th>\n",
       "      <td>1492220.4</td>\n",
       "    </tr>\n",
       "    <tr>\n",
       "      <th>인천</th>\n",
       "      <td>2931168.9</td>\n",
       "    </tr>\n",
       "    <tr>\n",
       "      <th>전남</th>\n",
       "      <td>1876198.5</td>\n",
       "    </tr>\n",
       "    <tr>\n",
       "      <th>전북</th>\n",
       "      <td>1915610.4</td>\n",
       "    </tr>\n",
       "    <tr>\n",
       "      <th>제주</th>\n",
       "      <td>2461839.6</td>\n",
       "    </tr>\n",
       "    <tr>\n",
       "      <th>충남</th>\n",
       "      <td>1967842.8</td>\n",
       "    </tr>\n",
       "    <tr>\n",
       "      <th>충북</th>\n",
       "      <td>1908663.9</td>\n",
       "    </tr>\n",
       "  </tbody>\n",
       "</table>\n",
       "</div>"
      ],
      "text/plain": [
       "        평당분양가격\n",
       "지역명           \n",
       "강원   1909561.5\n",
       "경기   3339223.8\n",
       "경남   2289388.2\n",
       "경북   2018745.3\n",
       "광주   2000258.7\n",
       "대구   2899376.7\n",
       "대전   2030160.0\n",
       "부산   3021780.3\n",
       "서울   5899994.1\n",
       "세종   2321774.4\n",
       "울산   1492220.4\n",
       "인천   2931168.9\n",
       "전남   1876198.5\n",
       "전북   1915610.4\n",
       "제주   2461839.6\n",
       "충남   1967842.8\n",
       "충북   1908663.9"
      ]
     },
     "execution_count": 49,
     "metadata": {},
     "output_type": "execute_result"
    }
   ],
   "source": [
    "pd.pivot_table(df_last, index=[\"지역명\"], values=[\"평당분양가격\"], aggfunc=\"sum\")"
   ]
  },
  {
   "cell_type": "markdown",
   "id": "7ca7bd9a",
   "metadata": {},
   "source": [
    "groupby는 시리즈 형태로 출력되지만 pivot_table은 데이터 프레임 형태로 출력된다."
   ]
  },
  {
   "cell_type": "markdown",
   "id": "11e63545",
   "metadata": {},
   "source": [
    "cf) pivot과 pivot_table의 차이 -> pivot은 연산을 하지 않는다.(aggfunc가 없다.)"
   ]
  },
  {
   "cell_type": "code",
   "execution_count": 50,
   "id": "d7321790",
   "metadata": {},
   "outputs": [
    {
     "data": {
      "text/html": [
       "<div>\n",
       "<style scoped>\n",
       "    .dataframe tbody tr th:only-of-type {\n",
       "        vertical-align: middle;\n",
       "    }\n",
       "\n",
       "    .dataframe tbody tr th {\n",
       "        vertical-align: top;\n",
       "    }\n",
       "\n",
       "    .dataframe thead th {\n",
       "        text-align: right;\n",
       "    }\n",
       "</style>\n",
       "<table border=\"1\" class=\"dataframe\">\n",
       "  <thead>\n",
       "    <tr style=\"text-align: right;\">\n",
       "      <th></th>\n",
       "      <th>평당분양가격</th>\n",
       "    </tr>\n",
       "    <tr>\n",
       "      <th>전용면적</th>\n",
       "      <th></th>\n",
       "    </tr>\n",
       "  </thead>\n",
       "  <tbody>\n",
       "    <tr>\n",
       "      <th>102㎡~</th>\n",
       "      <td>11517.705634</td>\n",
       "    </tr>\n",
       "    <tr>\n",
       "      <th>60㎡</th>\n",
       "      <td>10375.137421</td>\n",
       "    </tr>\n",
       "    <tr>\n",
       "      <th>60㎡~85㎡</th>\n",
       "      <td>10271.040071</td>\n",
       "    </tr>\n",
       "    <tr>\n",
       "      <th>85㎡~102㎡</th>\n",
       "      <td>11097.599573</td>\n",
       "    </tr>\n",
       "    <tr>\n",
       "      <th>전체</th>\n",
       "      <td>10276.086207</td>\n",
       "    </tr>\n",
       "  </tbody>\n",
       "</table>\n",
       "</div>"
      ],
      "text/plain": [
       "                평당분양가격\n",
       "전용면적                  \n",
       "102㎡~     11517.705634\n",
       "60㎡       10375.137421\n",
       "60㎡~85㎡   10271.040071\n",
       "85㎡~102㎡  11097.599573\n",
       "전체        10276.086207"
      ]
     },
     "execution_count": 50,
     "metadata": {},
     "output_type": "execute_result"
    }
   ],
   "source": [
    "# df_last.groupby([\"전용면적\"])[\"평당분양가격\"].mean()를 pivot_table로\n",
    "pd.pivot_table(df_last,index=\"전용면적\", values=\"평당분양가격\") #aggfunc 기본값은 mean."
   ]
  },
  {
   "cell_type": "code",
   "execution_count": 51,
   "id": "2f3fca21",
   "metadata": {},
   "outputs": [
    {
     "data": {
      "text/html": [
       "<div>\n",
       "<style scoped>\n",
       "    .dataframe tbody tr th:only-of-type {\n",
       "        vertical-align: middle;\n",
       "    }\n",
       "\n",
       "    .dataframe tbody tr th {\n",
       "        vertical-align: top;\n",
       "    }\n",
       "\n",
       "    .dataframe thead th {\n",
       "        text-align: right;\n",
       "    }\n",
       "</style>\n",
       "<table border=\"1\" class=\"dataframe\">\n",
       "  <thead>\n",
       "    <tr style=\"text-align: right;\">\n",
       "      <th></th>\n",
       "      <th></th>\n",
       "      <th>평당분양가격</th>\n",
       "    </tr>\n",
       "    <tr>\n",
       "      <th>전용면적</th>\n",
       "      <th>지역명</th>\n",
       "      <th></th>\n",
       "    </tr>\n",
       "  </thead>\n",
       "  <tbody>\n",
       "    <tr>\n",
       "      <th rowspan=\"5\" valign=\"top\">102㎡~</th>\n",
       "      <th>강원</th>\n",
       "      <td>8311.380000</td>\n",
       "    </tr>\n",
       "    <tr>\n",
       "      <th>경기</th>\n",
       "      <td>14771.790000</td>\n",
       "    </tr>\n",
       "    <tr>\n",
       "      <th>경남</th>\n",
       "      <td>10358.363265</td>\n",
       "    </tr>\n",
       "    <tr>\n",
       "      <th>경북</th>\n",
       "      <td>9157.302000</td>\n",
       "    </tr>\n",
       "    <tr>\n",
       "      <th>광주</th>\n",
       "      <td>11041.532432</td>\n",
       "    </tr>\n",
       "    <tr>\n",
       "      <th>...</th>\n",
       "      <th>...</th>\n",
       "      <td>...</td>\n",
       "    </tr>\n",
       "    <tr>\n",
       "      <th rowspan=\"5\" valign=\"top\">전체</th>\n",
       "      <th>전남</th>\n",
       "      <td>7283.562000</td>\n",
       "    </tr>\n",
       "    <tr>\n",
       "      <th>전북</th>\n",
       "      <td>7292.604000</td>\n",
       "    </tr>\n",
       "    <tr>\n",
       "      <th>제주</th>\n",
       "      <td>10784.994000</td>\n",
       "    </tr>\n",
       "    <tr>\n",
       "      <th>충남</th>\n",
       "      <td>7815.324000</td>\n",
       "    </tr>\n",
       "    <tr>\n",
       "      <th>충북</th>\n",
       "      <td>7219.014000</td>\n",
       "    </tr>\n",
       "  </tbody>\n",
       "</table>\n",
       "<p>85 rows × 1 columns</p>\n",
       "</div>"
      ],
      "text/plain": [
       "                 평당분양가격\n",
       "전용면적  지역명              \n",
       "102㎡~ 강원    8311.380000\n",
       "      경기   14771.790000\n",
       "      경남   10358.363265\n",
       "      경북    9157.302000\n",
       "      광주   11041.532432\n",
       "...                 ...\n",
       "전체    전남    7283.562000\n",
       "      전북    7292.604000\n",
       "      제주   10784.994000\n",
       "      충남    7815.324000\n",
       "      충북    7219.014000\n",
       "\n",
       "[85 rows x 1 columns]"
      ]
     },
     "execution_count": 51,
     "metadata": {},
     "output_type": "execute_result"
    }
   ],
   "source": [
    "# df_last.groupby([\"지역명\",\"전용면적\"])[\"평당분양가격\"].mean().unstack().round()\n",
    "df_last.pivot_table(index=[\"전용면적\",\"지역명\"], values=\"평당분양가격\")"
   ]
  },
  {
   "cell_type": "code",
   "execution_count": 52,
   "id": "7333c9e0",
   "metadata": {},
   "outputs": [
    {
     "data": {
      "text/html": [
       "<div>\n",
       "<style scoped>\n",
       "    .dataframe tbody tr th:only-of-type {\n",
       "        vertical-align: middle;\n",
       "    }\n",
       "\n",
       "    .dataframe tbody tr th {\n",
       "        vertical-align: top;\n",
       "    }\n",
       "\n",
       "    .dataframe thead th {\n",
       "        text-align: right;\n",
       "    }\n",
       "</style>\n",
       "<table border=\"1\" class=\"dataframe\">\n",
       "  <thead>\n",
       "    <tr style=\"text-align: right;\">\n",
       "      <th>지역명</th>\n",
       "      <th>강원</th>\n",
       "      <th>경기</th>\n",
       "      <th>경남</th>\n",
       "      <th>경북</th>\n",
       "      <th>광주</th>\n",
       "      <th>대구</th>\n",
       "      <th>대전</th>\n",
       "      <th>부산</th>\n",
       "      <th>서울</th>\n",
       "      <th>세종</th>\n",
       "      <th>울산</th>\n",
       "      <th>인천</th>\n",
       "      <th>전남</th>\n",
       "      <th>전북</th>\n",
       "      <th>제주</th>\n",
       "      <th>충남</th>\n",
       "      <th>충북</th>\n",
       "    </tr>\n",
       "    <tr>\n",
       "      <th>전용면적</th>\n",
       "      <th></th>\n",
       "      <th></th>\n",
       "      <th></th>\n",
       "      <th></th>\n",
       "      <th></th>\n",
       "      <th></th>\n",
       "      <th></th>\n",
       "      <th></th>\n",
       "      <th></th>\n",
       "      <th></th>\n",
       "      <th></th>\n",
       "      <th></th>\n",
       "      <th></th>\n",
       "      <th></th>\n",
       "      <th></th>\n",
       "      <th></th>\n",
       "      <th></th>\n",
       "    </tr>\n",
       "  </thead>\n",
       "  <tbody>\n",
       "    <tr>\n",
       "      <th>102㎡~</th>\n",
       "      <td>8311.0</td>\n",
       "      <td>14772.0</td>\n",
       "      <td>10358.0</td>\n",
       "      <td>9157.0</td>\n",
       "      <td>11042.0</td>\n",
       "      <td>13087.0</td>\n",
       "      <td>14877.0</td>\n",
       "      <td>13208.0</td>\n",
       "      <td>23446.0</td>\n",
       "      <td>10107.0</td>\n",
       "      <td>9974.0</td>\n",
       "      <td>14362.0</td>\n",
       "      <td>8168.0</td>\n",
       "      <td>8194.0</td>\n",
       "      <td>10523.0</td>\n",
       "      <td>8689.0</td>\n",
       "      <td>8195.0</td>\n",
       "    </tr>\n",
       "    <tr>\n",
       "      <th>60㎡</th>\n",
       "      <td>7567.0</td>\n",
       "      <td>13252.0</td>\n",
       "      <td>8689.0</td>\n",
       "      <td>7883.0</td>\n",
       "      <td>9431.0</td>\n",
       "      <td>11992.0</td>\n",
       "      <td>9176.0</td>\n",
       "      <td>11354.0</td>\n",
       "      <td>23213.0</td>\n",
       "      <td>9324.0</td>\n",
       "      <td>9202.0</td>\n",
       "      <td>11241.0</td>\n",
       "      <td>7210.0</td>\n",
       "      <td>7610.0</td>\n",
       "      <td>14022.0</td>\n",
       "      <td>7911.0</td>\n",
       "      <td>7103.0</td>\n",
       "    </tr>\n",
       "    <tr>\n",
       "      <th>60㎡~85㎡</th>\n",
       "      <td>7486.0</td>\n",
       "      <td>12524.0</td>\n",
       "      <td>8619.0</td>\n",
       "      <td>8061.0</td>\n",
       "      <td>9911.0</td>\n",
       "      <td>11779.0</td>\n",
       "      <td>9711.0</td>\n",
       "      <td>11865.0</td>\n",
       "      <td>22787.0</td>\n",
       "      <td>9775.0</td>\n",
       "      <td>10503.0</td>\n",
       "      <td>11384.0</td>\n",
       "      <td>7269.0</td>\n",
       "      <td>7271.0</td>\n",
       "      <td>10621.0</td>\n",
       "      <td>7819.0</td>\n",
       "      <td>7264.0</td>\n",
       "    </tr>\n",
       "    <tr>\n",
       "      <th>85㎡~102㎡</th>\n",
       "      <td>8750.0</td>\n",
       "      <td>13678.0</td>\n",
       "      <td>10018.0</td>\n",
       "      <td>8774.0</td>\n",
       "      <td>9296.0</td>\n",
       "      <td>11141.0</td>\n",
       "      <td>9037.0</td>\n",
       "      <td>12073.0</td>\n",
       "      <td>25944.0</td>\n",
       "      <td>9848.0</td>\n",
       "      <td>8861.0</td>\n",
       "      <td>11528.0</td>\n",
       "      <td>7909.0</td>\n",
       "      <td>8276.0</td>\n",
       "      <td>10709.0</td>\n",
       "      <td>9120.0</td>\n",
       "      <td>8391.0</td>\n",
       "    </tr>\n",
       "    <tr>\n",
       "      <th>전체</th>\n",
       "      <td>7478.0</td>\n",
       "      <td>12560.0</td>\n",
       "      <td>8659.0</td>\n",
       "      <td>8079.0</td>\n",
       "      <td>9904.0</td>\n",
       "      <td>11771.0</td>\n",
       "      <td>9786.0</td>\n",
       "      <td>11936.0</td>\n",
       "      <td>22610.0</td>\n",
       "      <td>9805.0</td>\n",
       "      <td>10493.0</td>\n",
       "      <td>11257.0</td>\n",
       "      <td>7284.0</td>\n",
       "      <td>7293.0</td>\n",
       "      <td>10785.0</td>\n",
       "      <td>7815.0</td>\n",
       "      <td>7219.0</td>\n",
       "    </tr>\n",
       "  </tbody>\n",
       "</table>\n",
       "</div>"
      ],
      "text/plain": [
       "지역명           강원       경기       경남      경북       광주       대구       대전  \\\n",
       "전용면적                                                                    \n",
       "102㎡~     8311.0  14772.0  10358.0  9157.0  11042.0  13087.0  14877.0   \n",
       "60㎡       7567.0  13252.0   8689.0  7883.0   9431.0  11992.0   9176.0   \n",
       "60㎡~85㎡   7486.0  12524.0   8619.0  8061.0   9911.0  11779.0   9711.0   \n",
       "85㎡~102㎡  8750.0  13678.0  10018.0  8774.0   9296.0  11141.0   9037.0   \n",
       "전체        7478.0  12560.0   8659.0  8079.0   9904.0  11771.0   9786.0   \n",
       "\n",
       "지역명            부산       서울       세종       울산       인천      전남      전북  \\\n",
       "전용면적                                                                    \n",
       "102㎡~     13208.0  23446.0  10107.0   9974.0  14362.0  8168.0  8194.0   \n",
       "60㎡       11354.0  23213.0   9324.0   9202.0  11241.0  7210.0  7610.0   \n",
       "60㎡~85㎡   11865.0  22787.0   9775.0  10503.0  11384.0  7269.0  7271.0   \n",
       "85㎡~102㎡  12073.0  25944.0   9848.0   8861.0  11528.0  7909.0  8276.0   \n",
       "전체        11936.0  22610.0   9805.0  10493.0  11257.0  7284.0  7293.0   \n",
       "\n",
       "지역명            제주      충남      충북  \n",
       "전용면적                               \n",
       "102㎡~     10523.0  8689.0  8195.0  \n",
       "60㎡       14022.0  7911.0  7103.0  \n",
       "60㎡~85㎡   10621.0  7819.0  7264.0  \n",
       "85㎡~102㎡  10709.0  9120.0  8391.0  \n",
       "전체        10785.0  7815.0  7219.0  "
      ]
     },
     "execution_count": 52,
     "metadata": {},
     "output_type": "execute_result"
    }
   ],
   "source": [
    "df_last.pivot_table(index=\"전용면적\", columns=\"지역명\", values=\"평당분양가격\").round() #groupby의 unstack()"
   ]
  },
  {
   "cell_type": "code",
   "execution_count": 53,
   "id": "174ee7b6",
   "metadata": {},
   "outputs": [
    {
     "data": {
      "text/html": [
       "<div>\n",
       "<style scoped>\n",
       "    .dataframe tbody tr th:only-of-type {\n",
       "        vertical-align: middle;\n",
       "    }\n",
       "\n",
       "    .dataframe tbody tr th {\n",
       "        vertical-align: top;\n",
       "    }\n",
       "\n",
       "    .dataframe thead th {\n",
       "        text-align: right;\n",
       "    }\n",
       "</style>\n",
       "<table border=\"1\" class=\"dataframe\">\n",
       "  <thead>\n",
       "    <tr style=\"text-align: right;\">\n",
       "      <th></th>\n",
       "      <th></th>\n",
       "      <th>평당분양가격</th>\n",
       "    </tr>\n",
       "    <tr>\n",
       "      <th>연도</th>\n",
       "      <th>지역명</th>\n",
       "      <th></th>\n",
       "    </tr>\n",
       "  </thead>\n",
       "  <tbody>\n",
       "    <tr>\n",
       "      <th rowspan=\"5\" valign=\"top\">2015</th>\n",
       "      <th>강원</th>\n",
       "      <td>7188.0</td>\n",
       "    </tr>\n",
       "    <tr>\n",
       "      <th>경기</th>\n",
       "      <td>11061.0</td>\n",
       "    </tr>\n",
       "    <tr>\n",
       "      <th>경남</th>\n",
       "      <td>8459.0</td>\n",
       "    </tr>\n",
       "    <tr>\n",
       "      <th>경북</th>\n",
       "      <td>7464.0</td>\n",
       "    </tr>\n",
       "    <tr>\n",
       "      <th>광주</th>\n",
       "      <td>7917.0</td>\n",
       "    </tr>\n",
       "    <tr>\n",
       "      <th>...</th>\n",
       "      <th>...</th>\n",
       "      <td>...</td>\n",
       "    </tr>\n",
       "    <tr>\n",
       "      <th rowspan=\"5\" valign=\"top\">2019</th>\n",
       "      <th>전남</th>\n",
       "      <td>8219.0</td>\n",
       "    </tr>\n",
       "    <tr>\n",
       "      <th>전북</th>\n",
       "      <td>8532.0</td>\n",
       "    </tr>\n",
       "    <tr>\n",
       "      <th>제주</th>\n",
       "      <td>11828.0</td>\n",
       "    </tr>\n",
       "    <tr>\n",
       "      <th>충남</th>\n",
       "      <td>8749.0</td>\n",
       "    </tr>\n",
       "    <tr>\n",
       "      <th>충북</th>\n",
       "      <td>7971.0</td>\n",
       "    </tr>\n",
       "  </tbody>\n",
       "</table>\n",
       "<p>85 rows × 1 columns</p>\n",
       "</div>"
      ],
      "text/plain": [
       "           평당분양가격\n",
       "연도   지역명         \n",
       "2015 강원    7188.0\n",
       "     경기   11061.0\n",
       "     경남    8459.0\n",
       "     경북    7464.0\n",
       "     광주    7917.0\n",
       "...           ...\n",
       "2019 전남    8219.0\n",
       "     전북    8532.0\n",
       "     제주   11828.0\n",
       "     충남    8749.0\n",
       "     충북    7971.0\n",
       "\n",
       "[85 rows x 1 columns]"
      ]
     },
     "execution_count": 53,
     "metadata": {},
     "output_type": "execute_result"
    }
   ],
   "source": [
    "# g = df_last.groupby([\"연도\",\"지역명\"])[\"평당분양가격\"].mean()\n",
    "p = pd.pivot_table(df_last, index=[\"연도\",\"지역명\"], values=\"평당분양가격\").round()\n",
    "p"
   ]
  },
  {
   "cell_type": "code",
   "execution_count": 54,
   "id": "01f6197f",
   "metadata": {},
   "outputs": [
    {
     "data": {
      "text/html": [
       "<div>\n",
       "<style scoped>\n",
       "    .dataframe tbody tr th:only-of-type {\n",
       "        vertical-align: middle;\n",
       "    }\n",
       "\n",
       "    .dataframe tbody tr th {\n",
       "        vertical-align: top;\n",
       "    }\n",
       "\n",
       "    .dataframe thead th {\n",
       "        text-align: right;\n",
       "    }\n",
       "</style>\n",
       "<table border=\"1\" class=\"dataframe\">\n",
       "  <thead>\n",
       "    <tr style=\"text-align: right;\">\n",
       "      <th></th>\n",
       "      <th>평당분양가격</th>\n",
       "    </tr>\n",
       "    <tr>\n",
       "      <th>지역명</th>\n",
       "      <th></th>\n",
       "    </tr>\n",
       "  </thead>\n",
       "  <tbody>\n",
       "    <tr>\n",
       "      <th>강원</th>\n",
       "      <td>7274.0</td>\n",
       "    </tr>\n",
       "    <tr>\n",
       "      <th>경기</th>\n",
       "      <td>12305.0</td>\n",
       "    </tr>\n",
       "    <tr>\n",
       "      <th>경남</th>\n",
       "      <td>8787.0</td>\n",
       "    </tr>\n",
       "    <tr>\n",
       "      <th>경북</th>\n",
       "      <td>8281.0</td>\n",
       "    </tr>\n",
       "    <tr>\n",
       "      <th>광주</th>\n",
       "      <td>9614.0</td>\n",
       "    </tr>\n",
       "    <tr>\n",
       "      <th>대구</th>\n",
       "      <td>12207.0</td>\n",
       "    </tr>\n",
       "    <tr>\n",
       "      <th>대전</th>\n",
       "      <td>9957.0</td>\n",
       "    </tr>\n",
       "    <tr>\n",
       "      <th>부산</th>\n",
       "      <td>11561.0</td>\n",
       "    </tr>\n",
       "    <tr>\n",
       "      <th>서울</th>\n",
       "      <td>21831.0</td>\n",
       "    </tr>\n",
       "    <tr>\n",
       "      <th>세종</th>\n",
       "      <td>9133.0</td>\n",
       "    </tr>\n",
       "    <tr>\n",
       "      <th>울산</th>\n",
       "      <td>10667.0</td>\n",
       "    </tr>\n",
       "    <tr>\n",
       "      <th>인천</th>\n",
       "      <td>11641.0</td>\n",
       "    </tr>\n",
       "    <tr>\n",
       "      <th>전남</th>\n",
       "      <td>7373.0</td>\n",
       "    </tr>\n",
       "    <tr>\n",
       "      <th>전북</th>\n",
       "      <td>7399.0</td>\n",
       "    </tr>\n",
       "    <tr>\n",
       "      <th>제주</th>\n",
       "      <td>12567.0</td>\n",
       "    </tr>\n",
       "    <tr>\n",
       "      <th>충남</th>\n",
       "      <td>8198.0</td>\n",
       "    </tr>\n",
       "    <tr>\n",
       "      <th>충북</th>\n",
       "      <td>7473.0</td>\n",
       "    </tr>\n",
       "  </tbody>\n",
       "</table>\n",
       "</div>"
      ],
      "text/plain": [
       "      평당분양가격\n",
       "지역명         \n",
       "강원    7274.0\n",
       "경기   12305.0\n",
       "경남    8787.0\n",
       "경북    8281.0\n",
       "광주    9614.0\n",
       "대구   12207.0\n",
       "대전    9957.0\n",
       "부산   11561.0\n",
       "서울   21831.0\n",
       "세종    9133.0\n",
       "울산   10667.0\n",
       "인천   11641.0\n",
       "전남    7373.0\n",
       "전북    7399.0\n",
       "제주   12567.0\n",
       "충남    8198.0\n",
       "충북    7473.0"
      ]
     },
     "execution_count": 54,
     "metadata": {},
     "output_type": "execute_result"
    }
   ],
   "source": [
    "p.loc[2017] #행을 기준으로 찾고자 하는 인덱스명 입력"
   ]
  },
  {
   "cell_type": "markdown",
   "id": "8036ab5b",
   "metadata": {},
   "source": [
    "groupby로 할 수 있는 건 대부분 pivot_table로도 할 수 있다.\n",
    "\n",
    "다만 pivot_table이 더 직관적이다. 하지만 연산은 groupby가 더 빠르다. "
   ]
  },
  {
   "cell_type": "markdown",
   "id": "7d5aa269",
   "metadata": {},
   "source": [
    "## 데이터 시각화 하기"
   ]
  },
  {
   "cell_type": "markdown",
   "id": "1283dd41",
   "metadata": {},
   "source": [
    "### 폰트설정"
   ]
  },
  {
   "cell_type": "markdown",
   "id": "1754ed54",
   "metadata": {},
   "source": [
    "df_last.groupby([\"지역명\"])[\"평당분양가격\"].mean().plot() 를 하면 폰트 에러 발생.\n",
    "\n",
    "폰트를 지정해줘야 한다."
   ]
  },
  {
   "cell_type": "code",
   "execution_count": 55,
   "id": "21f25592",
   "metadata": {},
   "outputs": [],
   "source": [
    "import matplotlib.pyplot as plt\n",
    "plt.rc(\"font\", family=\"Malgun Gothic\")"
   ]
  },
  {
   "cell_type": "markdown",
   "id": "077bd718",
   "metadata": {},
   "source": [
    "### Pandas로 데이터 시각화 - 선그래프 막대그래프"
   ]
  },
  {
   "cell_type": "markdown",
   "id": "8766c2ba",
   "metadata": {},
   "source": [
    "pandas의 plot을 활용하면 다양한 그래프를 그릴 수 있다."
   ]
  },
  {
   "cell_type": "code",
   "execution_count": 56,
   "id": "ef67a336",
   "metadata": {
    "scrolled": true
   },
   "outputs": [
    {
     "data": {
      "text/plain": [
       "<AxesSubplot:xlabel='지역명'>"
      ]
     },
     "execution_count": 56,
     "metadata": {},
     "output_type": "execute_result"
    },
    {
     "data": {
      "image/png": "[encoded data removed]",
      "text/plain": [
       "<Figure size 432x288 with 1 Axes>"
      ]
     },
     "metadata": {
      "needs_background": "light"
     },
     "output_type": "display_data"
    }
   ],
   "source": [
    "g = df_last.groupby([\"지역명\"])[\"평당분양가격\"].mean()\n",
    "g.plot()"
   ]
  },
  {
   "cell_type": "markdown",
   "id": "d2bef5df",
   "metadata": {},
   "source": [
    "지역별 평당분양가격은 선그래프보다는 막대그래프가 더 적합하다."
   ]
  },
  {
   "cell_type": "code",
   "execution_count": 57,
   "id": "3a2dfaca",
   "metadata": {},
   "outputs": [
    {
     "data": {
      "text/plain": [
       "<AxesSubplot:xlabel='지역명'>"
      ]
     },
     "execution_count": 57,
     "metadata": {},
     "output_type": "execute_result"
    },
    {
     "data": {
      "image/png": "[encoded data removed]",
      "text/plain": [
       "<Figure size 432x288 with 1 Axes>"
      ]
     },
     "metadata": {
      "needs_background": "light"
     },
     "output_type": "display_data"
    }
   ],
   "source": [
    "g.plot(kind=\"bar\") #g.plot.bar()와 동일"
   ]
  },
  {
   "cell_type": "code",
   "execution_count": 58,
   "id": "2255e8fd",
   "metadata": {},
   "outputs": [
    {
     "data": {
      "text/plain": [
       "<AxesSubplot:xlabel='지역명'>"
      ]
     },
     "execution_count": 58,
     "metadata": {},
     "output_type": "execute_result"
    },
    {
     "data": {
      "image/png": "[encoded data removed]",
      "text/plain": [
       "<Figure size 720x216 with 1 Axes>"
      ]
     },
     "metadata": {
      "needs_background": "light"
     },
     "output_type": "display_data"
    }
   ],
   "source": [
    "g.plot.bar(rot=0, figsize=(10,3)) #x축 글씨 가로로 전환, 크기 조절."
   ]
  },
  {
   "cell_type": "code",
   "execution_count": 59,
   "id": "acf8dd64",
   "metadata": {},
   "outputs": [
    {
     "data": {
      "text/plain": [
       "<AxesSubplot:xlabel='지역명'>"
      ]
     },
     "execution_count": 59,
     "metadata": {},
     "output_type": "execute_result"
    },
    {
     "data": {
      "image/png": "[encoded data removed]",
      "text/plain": [
       "<Figure size 720x216 with 1 Axes>"
      ]
     },
     "metadata": {
      "needs_background": "light"
     },
     "output_type": "display_data"
    }
   ],
   "source": [
    "g.sort_values().plot.bar(rot=0, figsize=(10,3))"
   ]
  },
  {
   "cell_type": "code",
   "execution_count": 60,
   "id": "185b9f1b",
   "metadata": {},
   "outputs": [
    {
     "data": {
      "text/plain": [
       "<AxesSubplot:xlabel='지역명'>"
      ]
     },
     "execution_count": 60,
     "metadata": {},
     "output_type": "execute_result"
    },
    {
     "data": {
      "image/png": "[encoded data removed]",
      "text/plain": [
       "<Figure size 720x216 with 1 Axes>"
      ]
     },
     "metadata": {
      "needs_background": "light"
     },
     "output_type": "display_data"
    }
   ],
   "source": [
    "g.sort_values(ascending=False).plot.bar(rot=0, figsize=(10,3))"
   ]
  },
  {
   "cell_type": "code",
   "execution_count": 61,
   "id": "f64c7151",
   "metadata": {},
   "outputs": [
    {
     "data": {
      "text/plain": [
       "<AxesSubplot:xlabel='전용면적'>"
      ]
     },
     "execution_count": 61,
     "metadata": {},
     "output_type": "execute_result"
    },
    {
     "data": {
      "image/png": "[encoded data removed]",
      "text/plain": [
       "<Figure size 432x288 with 1 Axes>"
      ]
     },
     "metadata": {
      "needs_background": "light"
     },
     "output_type": "display_data"
    }
   ],
   "source": [
    "# 전용면적별 분양가격의 평균\n",
    "df_last.groupby([\"전용면적\"])[\"평당분양가격\"].mean().plot.bar(rot = 0)"
   ]
  },
  {
   "cell_type": "code",
   "execution_count": 62,
   "id": "8169f585",
   "metadata": {},
   "outputs": [
    {
     "data": {
      "text/plain": [
       "<AxesSubplot:xlabel='연도'>"
      ]
     },
     "execution_count": 62,
     "metadata": {},
     "output_type": "execute_result"
    },
    {
     "data": {
      "image/png": "[encoded data removed]",
      "text/plain": [
       "<Figure size 432x288 with 1 Axes>"
      ]
     },
     "metadata": {
      "needs_background": "light"
     },
     "output_type": "display_data"
    }
   ],
   "source": [
    "# 연도별 분양가격의 평균\n",
    "df_last.groupby([\"연도\"])[\"평당분양가격\"].mean().plot()"
   ]
  },
  {
   "cell_type": "markdown",
   "id": "a3959f7f",
   "metadata": {},
   "source": [
    "### Box plot (상자 수염 그림)\n",
    "\n",
    "자료로부터 얻어낸 통계량의 5가지 요약 수치를 그린다.\n",
    "1. 최솟값\n",
    "2. 제 1사분위수\n",
    "3. 제 2사분위수, 중앙값\n",
    "4. 제 3사분위수\n",
    "5. 최댓값\n",
    "\n",
    "https://ko.wikipedia.org/wiki/%EC%83%81%EC%9E%90_%EC%88%98%EC%97%BC_%EA%B7%B8%EB%A6%BC"
   ]
  },
  {
   "cell_type": "code",
   "execution_count": 63,
   "id": "30d2a5d7",
   "metadata": {},
   "outputs": [
    {
     "data": {
      "text/plain": [
       "<AxesSubplot:>"
      ]
     },
     "execution_count": 63,
     "metadata": {},
     "output_type": "execute_result"
    },
    {
     "data": {
      "image/png": "[encoded data removed]",
      "text/plain": [
       "<Figure size 1080x216 with 1 Axes>"
      ]
     },
     "metadata": {
      "needs_background": "light"
     },
     "output_type": "display_data"
    }
   ],
   "source": [
    "df_last.pivot_table(index=\"월\", columns=\"연도\", values=\"평당분양가격\").plot.box(figsize=(15,3), rot=30)"
   ]
  },
  {
   "cell_type": "code",
   "execution_count": 64,
   "id": "c13ff3db",
   "metadata": {},
   "outputs": [
    {
     "data": {
      "text/plain": [
       "<AxesSubplot:>"
      ]
     },
     "execution_count": 64,
     "metadata": {},
     "output_type": "execute_result"
    },
    {
     "data": {
      "image/png": "[encoded data removed]",
      "text/plain": [
       "<Figure size 1080x216 with 1 Axes>"
      ]
     },
     "metadata": {
      "needs_background": "light"
     },
     "output_type": "display_data"
    }
   ],
   "source": [
    "p = df_last.pivot_table(index=\"월\", columns=[\"연도\",\"전용면적\"], values=\"평당분양가격\")\n",
    "p.plot.box(figsize=(15,3), rot=30)"
   ]
  },
  {
   "cell_type": "code",
   "execution_count": 65,
   "id": "1e6ac7dd",
   "metadata": {},
   "outputs": [
    {
     "data": {
      "text/plain": [
       "<AxesSubplot:xlabel='연도'>"
      ]
     },
     "execution_count": 65,
     "metadata": {},
     "output_type": "execute_result"
    },
    {
     "data": {
      "image/png": "[encoded data removed]",
      "text/plain": [
       "<Figure size 1080x216 with 1 Axes>"
      ]
     },
     "metadata": {
      "needs_background": "light"
     },
     "output_type": "display_data"
    }
   ],
   "source": [
    "p = df_last.pivot_table(index=\"연도\", columns=\"지역명\", values=\"평당분양가격\")\n",
    "p.plot(figsize=(15,3), rot=30)"
   ]
  },
  {
   "cell_type": "markdown",
   "id": "1dec37e7",
   "metadata": {},
   "source": [
    "### Seaborn 으로 시각화 해보기"
   ]
  },
  {
   "cell_type": "code",
   "execution_count": 66,
   "id": "75a899fd",
   "metadata": {},
   "outputs": [],
   "source": [
    "import seaborn as sns"
   ]
  },
  {
   "cell_type": "code",
   "execution_count": 67,
   "id": "c1aecb4a",
   "metadata": {},
   "outputs": [
    {
     "data": {
      "text/plain": [
       "<AxesSubplot:xlabel='지역명', ylabel='평당분양가격'>"
      ]
     },
     "execution_count": 67,
     "metadata": {},
     "output_type": "execute_result"
    },
    {
     "data": {
      "image/png": "[encoded data removed]",
      "text/plain": [
       "<Figure size 720x216 with 1 Axes>"
      ]
     },
     "metadata": {
      "needs_background": "light"
     },
     "output_type": "display_data"
    }
   ],
   "source": [
    "# seaborn의 barplot으로 지역별 평당분양가격 그리기.\n",
    "plt.figure(figsize=(10,3)) #seaborn은 matplotlib기반이므로 plt에 사이즈 설정.\n",
    "sns.barplot(data=df_last, x=\"지역명\", y=\"평당분양가격\") #기본 연산은 평균."
   ]
  },
  {
   "cell_type": "markdown",
   "id": "449c8c12",
   "metadata": {},
   "source": [
    " **Seaborn은 pnadas와 달리 groupby나 pivot_table로 집계할 필요가 없다. barplot 내부에서 집계 연산을 해준다.(seaborn의 장점)**"
   ]
  },
  {
   "cell_type": "code",
   "execution_count": 68,
   "id": "aa7a0ba5",
   "metadata": {},
   "outputs": [
    {
     "data": {
      "text/plain": [
       "<AxesSubplot:xlabel='지역명', ylabel='평당분양가격'>"
      ]
     },
     "execution_count": 68,
     "metadata": {},
     "output_type": "execute_result"
    },
    {
     "data": {
      "image/png": "[encoded data removed]",
      "text/plain": [
       "<Figure size 720x216 with 1 Axes>"
      ]
     },
     "metadata": {
      "needs_background": "light"
     },
     "output_type": "display_data"
    }
   ],
   "source": [
    "plt.figure(figsize=(10,3))\n",
    "sns.barplot(data=df_last, x=\"지역명\", y=\"평당분양가격\", ci=95) #검은색 막대, ci = 신뢰구간\n",
    "# ci의 기본값은 95(%로 추정해서 그림), sd는 표준편차, None은 그리지 않음."
   ]
  },
  {
   "cell_type": "markdown",
   "id": "3d676da4",
   "metadata": {},
   "source": [
    " **신뢰구간 95%** : 같은 방법으로 표본을 100번 추출했을 때, 100개의 신뢰구간 중 모평균을 포함한 신뢰구간이 95개 정도이다. \n",
    "\n",
    "즉, 신뢰구간은 내가 뽑은 표본이 얼마나 모집단 전체를 반영하는지, 다시 말해 표본의 통계적 수치들이 모집단의 통계적 수치들과 얼마나 비슷한지를 나타내는 지표라고 볼 수 있다."
   ]
  },
  {
   "cell_type": "code",
   "execution_count": 69,
   "id": "88c5798b",
   "metadata": {},
   "outputs": [
    {
     "data": {
      "text/plain": [
       "<AxesSubplot:xlabel='연도', ylabel='평당분양가격'>"
      ]
     },
     "execution_count": 69,
     "metadata": {},
     "output_type": "execute_result"
    },
    {
     "data": {
      "image/png": "[encoded data removed]",
      "text/plain": [
       "<Figure size 432x288 with 1 Axes>"
      ]
     },
     "metadata": {
      "needs_background": "light"
     },
     "output_type": "display_data"
    }
   ],
   "source": [
    "# 연도별 평당분양가격(평균가격)\n",
    "sns.barplot(data=df_last, x=\"연도\", y=\"평당분양가격\")"
   ]
  },
  {
   "cell_type": "code",
   "execution_count": 70,
   "id": "f80b5876",
   "metadata": {},
   "outputs": [
    {
     "data": {
      "text/plain": [
       "<AxesSubplot:xlabel='연도', ylabel='평당분양가격'>"
      ]
     },
     "execution_count": 70,
     "metadata": {},
     "output_type": "execute_result"
    },
    {
     "data": {
      "image/png": "[encoded data removed]",
      "text/plain": [
       "<Figure size 432x288 with 1 Axes>"
      ]
     },
     "metadata": {
      "needs_background": "light"
     },
     "output_type": "display_data"
    }
   ],
   "source": [
    "# 연도별 평당분양가격 - 선그래프\n",
    "sns.lineplot(data=df_last, x=\"연도\", y=\"평당분양가격\")"
   ]
  },
  {
   "cell_type": "markdown",
   "id": "cc7345d2",
   "metadata": {},
   "source": [
    "**메서드 사용법이 대체로 비슷하다**는 점도 Seaborn의 큰 장점."
   ]
  },
  {
   "cell_type": "code",
   "execution_count": 71,
   "id": "3274f052",
   "metadata": {},
   "outputs": [
    {
     "data": {
      "text/plain": [
       "<matplotlib.legend.Legend at 0x1cc975aa490>"
      ]
     },
     "execution_count": 71,
     "metadata": {},
     "output_type": "execute_result"
    },
    {
     "data": {
      "image/png": "[encoded data removed]",
      "text/plain": [
       "<Figure size 720x360 with 1 Axes>"
      ]
     },
     "metadata": {
      "needs_background": "light"
     },
     "output_type": "display_data"
    }
   ],
   "source": [
    "plt.figure(figsize=(10,5))\n",
    "sns.lineplot(data=df_last, x=\"연도\", y=\"평당분양가격\", hue=\"지역명\") #카테고리 별로 색상을 다르게 표현\n",
    "plt.legend(bbox_to_anchor=(1.02,1), loc=2, borderaxespad=0.)"
   ]
  },
  {
   "cell_type": "markdown",
   "id": "7b4dc9d1",
   "metadata": {},
   "source": [
    "잘 보이지 않는다. reㅣplot으로 서브플롯을 그려 해결할 수 있다."
   ]
  },
  {
   "cell_type": "code",
   "execution_count": 72,
   "id": "d71895c1",
   "metadata": {},
   "outputs": [
    {
     "data": {
      "text/plain": [
       "<seaborn.axisgrid.FacetGrid at 0x1cc976ddd60>"
      ]
     },
     "execution_count": 72,
     "metadata": {},
     "output_type": "execute_result"
    },
    {
     "data": {
      "image/png": "[encoded data removed]",
      "text/plain": [
       "<Figure size 1496x1800 with 17 Axes>"
      ]
     },
     "metadata": {
      "needs_background": "light"
     },
     "output_type": "display_data"
    }
   ],
   "source": [
    "sns.relplot(data=df_last, x=\"연도\", y=\"평당분양가격\", hue=\"지역명\", kind=\"line\",\n",
    "           col=\"지역명\", col_wrap=4) #한줄에 4개씩."
   ]
  },
  {
   "cell_type": "markdown",
   "id": "a72b6c6e",
   "metadata": {},
   "source": [
    "barplot도 catplot을 통해 서브플롯을 그릴 수 있다."
   ]
  },
  {
   "cell_type": "code",
   "execution_count": 73,
   "id": "6ba1590d",
   "metadata": {},
   "outputs": [
    {
     "data": {
      "text/plain": [
       "<seaborn.axisgrid.FacetGrid at 0x1cc987f4700>"
      ]
     },
     "execution_count": 73,
     "metadata": {},
     "output_type": "execute_result"
    },
    {
     "data": {
      "image/png": "[encoded data removed]",
      "text/plain": [
       "<Figure size 1440x1800 with 17 Axes>"
      ]
     },
     "metadata": {
      "needs_background": "light"
     },
     "output_type": "display_data"
    }
   ],
   "source": [
    "sns.catplot(data=df_last, x=\"연도\", y=\"평당분양가격\", kind=\"bar\",\n",
    "           col=\"지역명\", col_wrap=4)"
   ]
  },
  {
   "cell_type": "markdown",
   "id": "9d622d55",
   "metadata": {},
   "source": [
    "### boxplot과 violinplot"
   ]
  },
  {
   "cell_type": "code",
   "execution_count": 74,
   "id": "581612ce",
   "metadata": {},
   "outputs": [
    {
     "data": {
      "text/plain": [
       "<AxesSubplot:xlabel='연도', ylabel='평당분양가격'>"
      ]
     },
     "execution_count": 74,
     "metadata": {},
     "output_type": "execute_result"
    },
    {
     "data": {
      "image/png": "[encoded data removed]",
      "text/plain": [
       "<Figure size 432x288 with 1 Axes>"
      ]
     },
     "metadata": {
      "needs_background": "light"
     },
     "output_type": "display_data"
    }
   ],
   "source": [
    "# 연도별 평당분양가격 boxplot\n",
    "\n",
    "sns.boxplot(data=df_last, x=\"연도\", y=\"평당분양가격\")"
   ]
  },
  {
   "cell_type": "markdown",
   "id": "5cf6c1f4",
   "metadata": {},
   "source": [
    "점들은 이상치를 의미"
   ]
  },
  {
   "cell_type": "code",
   "execution_count": 75,
   "id": "73f586c8",
   "metadata": {},
   "outputs": [
    {
     "data": {
      "text/plain": [
       "<AxesSubplot:xlabel='연도', ylabel='평당분양가격'>"
      ]
     },
     "execution_count": 75,
     "metadata": {},
     "output_type": "execute_result"
    },
    {
     "data": {
      "image/png": "[encoded data removed]",
      "text/plain": [
       "<Figure size 864x216 with 1 Axes>"
      ]
     },
     "metadata": {
      "needs_background": "light"
     },
     "output_type": "display_data"
    }
   ],
   "source": [
    "plt.figure(figsize=(12,3))\n",
    "sns.boxplot(data=df_last, x=\"연도\", y=\"평당분양가격\", hue=\"전용면적\")\n",
    "#hue는 카테고리 수가 작을 때 하는 것이 좋다. "
   ]
  },
  {
   "cell_type": "code",
   "execution_count": 76,
   "id": "aae1f2f6",
   "metadata": {},
   "outputs": [
    {
     "data": {
      "text/plain": [
       "<AxesSubplot:xlabel='연도', ylabel='평당분양가격'>"
      ]
     },
     "execution_count": 76,
     "metadata": {},
     "output_type": "execute_result"
    },
    {
     "data": {
      "image/png": "[encoded data removed]",
      "text/plain": [
       "<Figure size 432x288 with 1 Axes>"
      ]
     },
     "metadata": {
      "needs_background": "light"
     },
     "output_type": "display_data"
    }
   ],
   "source": [
    "# 연도별 평당분양가격 violinplot\n",
    "\n",
    "sns.violinplot(data=df_last, x=\"연도\", y=\"평당분양가격\")"
   ]
  },
  {
   "cell_type": "markdown",
   "id": "e46b21b1",
   "metadata": {},
   "source": [
    "분포까지 볼 수 있다.(밀도추정그래프를 세로로 세운 모양)\n",
    "\n",
    "boxplot의 단점을 보완한 그래프."
   ]
  },
  {
   "cell_type": "markdown",
   "id": "efcabb85",
   "metadata": {},
   "source": [
    "### lmplot과 swarmplot"
   ]
  },
  {
   "cell_type": "code",
   "execution_count": 77,
   "id": "2dcd3a2d",
   "metadata": {},
   "outputs": [
    {
     "data": {
      "text/plain": [
       "<AxesSubplot:xlabel='연도', ylabel='평당분양가격'>"
      ]
     },
     "execution_count": 77,
     "metadata": {},
     "output_type": "execute_result"
    },
    {
     "data": {
      "image/png": "[encoded data removed]",
      "text/plain": [
       "<Figure size 432x288 with 1 Axes>"
      ]
     },
     "metadata": {
      "needs_background": "light"
     },
     "output_type": "display_data"
    }
   ],
   "source": [
    "# 연도별 평당분양가격을 regplot (regplot은 hue 속성이 없음)\n",
    "\n",
    "sns.regplot(data=df_last, x=\"연도\", y=\"평당분양가격\") "
   ]
  },
  {
   "cell_type": "markdown",
   "id": "34e3d22f",
   "metadata": {},
   "source": [
    "regplot은 scatterplot에 회귀선을 그려준 것.\n",
    "\n",
    "회귀선은 상관관계를 보여준다. 기울기가 양수이면 양의 상관관계, 기울기가 음수이면 음의 상관관계.\n",
    "\n",
    "(연도와 평당 분양가격은 약간의 양의 상관관계)"
   ]
  },
  {
   "cell_type": "code",
   "execution_count": 78,
   "id": "30a4a4e9",
   "metadata": {},
   "outputs": [
    {
     "data": {
      "text/plain": [
       "<seaborn.axisgrid.FacetGrid at 0x1cc9c1a8f40>"
      ]
     },
     "execution_count": 78,
     "metadata": {},
     "output_type": "execute_result"
    },
    {
     "data": {
      "image/png": "[encoded data removed]",
      "text/plain": [
       "<Figure size 450.5x360 with 1 Axes>"
      ]
     },
     "metadata": {
      "needs_background": "light"
     },
     "output_type": "display_data"
    }
   ],
   "source": [
    "# 연도별 평당분양가격 lmplot\n",
    "# hue 옵션으로 전용면적 표현\n",
    "\n",
    "sns.lmplot(data=df_last, x=\"연도\", y=\"평당분양가격\", hue=\"전용면적\")"
   ]
  },
  {
   "cell_type": "code",
   "execution_count": 79,
   "id": "1d1fefbe",
   "metadata": {},
   "outputs": [
    {
     "data": {
      "text/plain": [
       "<seaborn.axisgrid.FacetGrid at 0x1cc9c911400>"
      ]
     },
     "execution_count": 79,
     "metadata": {},
     "output_type": "execute_result"
    },
    {
     "data": {
      "image/png": "[encoded data removed]",
      "text/plain": [
       "<Figure size 1080x720 with 5 Axes>"
      ]
     },
     "metadata": {
      "needs_background": "light"
     },
     "output_type": "display_data"
    }
   ],
   "source": [
    "# 점들이 겹쳐 한 눈에 알아보기 어렵다. 따러서 서브플롯을 그려보자.\n",
    "\n",
    "sns.lmplot(data=df_last, x=\"연도\", y=\"평당분양가격\", hue=\"전용면적\", col=\"전용면적\",col_wrap=3)"
   ]
  },
  {
   "cell_type": "markdown",
   "id": "9a1946f2",
   "metadata": {},
   "source": [
    " **연도는 수치형 데이터라기 보다는 범주형 데이터**\n",
    " \n",
    " scatter형 그래프에 적합하지 않다. swarmplot을 사용하면 범주형(카테고리형)데이터의 산점도를 표현하기에 적합하다."
   ]
  },
  {
   "cell_type": "code",
   "execution_count": 80,
   "id": "2b0fca1d",
   "metadata": {},
   "outputs": [
    {
     "data": {
      "text/plain": [
       "<AxesSubplot:xlabel='연도', ylabel='평당분양가격'>"
      ]
     },
     "execution_count": 80,
     "metadata": {},
     "output_type": "execute_result"
    },
    {
     "data": {
      "image/png": "[encoded data removed]",
      "text/plain": [
       "<Figure size 1080x216 with 1 Axes>"
      ]
     },
     "metadata": {
      "needs_background": "light"
     },
     "output_type": "display_data"
    }
   ],
   "source": [
    "# 연도별 평당분양가격 swarmplot\n",
    "\n",
    "plt.figure(figsize=(15,3))\n",
    "sns.swarmplot(data=df_last, x=\"연도\", y=\"평당분양가격\", hue=\"전용면적\", size=1)\n",
    "# 점을 하나하나 찍기 때문에 오래걸린다. (너무 많은 데이터를 보기엔 부적합)"
   ]
  },
  {
   "cell_type": "markdown",
   "id": "e3bd39c4",
   "metadata": {},
   "source": [
    "### 이상치 보기"
   ]
  },
  {
   "cell_type": "code",
   "execution_count": 81,
   "id": "21513a43",
   "metadata": {},
   "outputs": [
    {
     "data": {
      "text/plain": [
       "count     3957.000000\n",
       "mean     10685.824488\n",
       "std       4172.222780\n",
       "min       6164.400000\n",
       "25%       8055.300000\n",
       "50%       9484.200000\n",
       "75%      11751.300000\n",
       "max      42002.400000\n",
       "Name: 평당분양가격, dtype: float64"
      ]
     },
     "execution_count": 81,
     "metadata": {},
     "output_type": "execute_result"
    }
   ],
   "source": [
    "df_last[\"평당분양가격\"].describe()"
   ]
  },
  {
   "cell_type": "code",
   "execution_count": 85,
   "id": "908fee9e",
   "metadata": {},
   "outputs": [
    {
     "data": {
      "text/plain": [
       "42002.399999999994"
      ]
     },
     "execution_count": 85,
     "metadata": {},
     "output_type": "execute_result"
    }
   ],
   "source": [
    "max_price = df_last[\"평당분양가격\"].max()\n",
    "max_price"
   ]
  },
  {
   "cell_type": "code",
   "execution_count": 86,
   "id": "1df57a04",
   "metadata": {},
   "outputs": [
    {
     "data": {
      "text/html": [
       "<div>\n",
       "<style scoped>\n",
       "    .dataframe tbody tr th:only-of-type {\n",
       "        vertical-align: middle;\n",
       "    }\n",
       "\n",
       "    .dataframe tbody tr th {\n",
       "        vertical-align: top;\n",
       "    }\n",
       "\n",
       "    .dataframe thead th {\n",
       "        text-align: right;\n",
       "    }\n",
       "</style>\n",
       "<table border=\"1\" class=\"dataframe\">\n",
       "  <thead>\n",
       "    <tr style=\"text-align: right;\">\n",
       "      <th></th>\n",
       "      <th>지역명</th>\n",
       "      <th>연도</th>\n",
       "      <th>월</th>\n",
       "      <th>분양가격</th>\n",
       "      <th>평당분양가격</th>\n",
       "      <th>전용면적</th>\n",
       "    </tr>\n",
       "  </thead>\n",
       "  <tbody>\n",
       "    <tr>\n",
       "      <th>3743</th>\n",
       "      <td>서울</td>\n",
       "      <td>2019</td>\n",
       "      <td>6</td>\n",
       "      <td>12728.0</td>\n",
       "      <td>42002.4</td>\n",
       "      <td>85㎡~102㎡</td>\n",
       "    </tr>\n",
       "    <tr>\n",
       "      <th>3828</th>\n",
       "      <td>서울</td>\n",
       "      <td>2019</td>\n",
       "      <td>7</td>\n",
       "      <td>12728.0</td>\n",
       "      <td>42002.4</td>\n",
       "      <td>85㎡~102㎡</td>\n",
       "    </tr>\n",
       "    <tr>\n",
       "      <th>3913</th>\n",
       "      <td>서울</td>\n",
       "      <td>2019</td>\n",
       "      <td>8</td>\n",
       "      <td>12728.0</td>\n",
       "      <td>42002.4</td>\n",
       "      <td>85㎡~102㎡</td>\n",
       "    </tr>\n",
       "    <tr>\n",
       "      <th>3998</th>\n",
       "      <td>서울</td>\n",
       "      <td>2019</td>\n",
       "      <td>9</td>\n",
       "      <td>12728.0</td>\n",
       "      <td>42002.4</td>\n",
       "      <td>85㎡~102㎡</td>\n",
       "    </tr>\n",
       "    <tr>\n",
       "      <th>4083</th>\n",
       "      <td>서울</td>\n",
       "      <td>2019</td>\n",
       "      <td>10</td>\n",
       "      <td>12728.0</td>\n",
       "      <td>42002.4</td>\n",
       "      <td>85㎡~102㎡</td>\n",
       "    </tr>\n",
       "    <tr>\n",
       "      <th>4168</th>\n",
       "      <td>서울</td>\n",
       "      <td>2019</td>\n",
       "      <td>11</td>\n",
       "      <td>12728.0</td>\n",
       "      <td>42002.4</td>\n",
       "      <td>85㎡~102㎡</td>\n",
       "    </tr>\n",
       "    <tr>\n",
       "      <th>4253</th>\n",
       "      <td>서울</td>\n",
       "      <td>2019</td>\n",
       "      <td>12</td>\n",
       "      <td>12728.0</td>\n",
       "      <td>42002.4</td>\n",
       "      <td>85㎡~102㎡</td>\n",
       "    </tr>\n",
       "  </tbody>\n",
       "</table>\n",
       "</div>"
      ],
      "text/plain": [
       "     지역명    연도   월     분양가격   평당분양가격      전용면적\n",
       "3743  서울  2019   6  12728.0  42002.4  85㎡~102㎡\n",
       "3828  서울  2019   7  12728.0  42002.4  85㎡~102㎡\n",
       "3913  서울  2019   8  12728.0  42002.4  85㎡~102㎡\n",
       "3998  서울  2019   9  12728.0  42002.4  85㎡~102㎡\n",
       "4083  서울  2019  10  12728.0  42002.4  85㎡~102㎡\n",
       "4168  서울  2019  11  12728.0  42002.4  85㎡~102㎡\n",
       "4253  서울  2019  12  12728.0  42002.4  85㎡~102㎡"
      ]
     },
     "execution_count": 86,
     "metadata": {},
     "output_type": "execute_result"
    }
   ],
   "source": [
    "df_last[df_last[\"평당분양가격\"] == max_price]"
   ]
  },
  {
   "cell_type": "code",
   "execution_count": 91,
   "id": "6d8feb84",
   "metadata": {},
   "outputs": [
    {
     "data": {
      "text/html": [
       "<div>\n",
       "<style scoped>\n",
       "    .dataframe tbody tr th:only-of-type {\n",
       "        vertical-align: middle;\n",
       "    }\n",
       "\n",
       "    .dataframe tbody tr th {\n",
       "        vertical-align: top;\n",
       "    }\n",
       "\n",
       "    .dataframe thead th {\n",
       "        text-align: right;\n",
       "    }\n",
       "</style>\n",
       "<table border=\"1\" class=\"dataframe\">\n",
       "  <thead>\n",
       "    <tr style=\"text-align: right;\">\n",
       "      <th></th>\n",
       "      <th>지역명</th>\n",
       "      <th>연도</th>\n",
       "      <th>월</th>\n",
       "      <th>분양가격</th>\n",
       "      <th>평당분양가격</th>\n",
       "      <th>전용면적</th>\n",
       "    </tr>\n",
       "  </thead>\n",
       "  <tbody>\n",
       "    <tr>\n",
       "      <th>3743</th>\n",
       "      <td>서울</td>\n",
       "      <td>2019</td>\n",
       "      <td>6</td>\n",
       "      <td>12728.0</td>\n",
       "      <td>42002.4</td>\n",
       "      <td>85㎡~102㎡</td>\n",
       "    </tr>\n",
       "    <tr>\n",
       "      <th>3828</th>\n",
       "      <td>서울</td>\n",
       "      <td>2019</td>\n",
       "      <td>7</td>\n",
       "      <td>12728.0</td>\n",
       "      <td>42002.4</td>\n",
       "      <td>85㎡~102㎡</td>\n",
       "    </tr>\n",
       "    <tr>\n",
       "      <th>3913</th>\n",
       "      <td>서울</td>\n",
       "      <td>2019</td>\n",
       "      <td>8</td>\n",
       "      <td>12728.0</td>\n",
       "      <td>42002.4</td>\n",
       "      <td>85㎡~102㎡</td>\n",
       "    </tr>\n",
       "    <tr>\n",
       "      <th>3998</th>\n",
       "      <td>서울</td>\n",
       "      <td>2019</td>\n",
       "      <td>9</td>\n",
       "      <td>12728.0</td>\n",
       "      <td>42002.4</td>\n",
       "      <td>85㎡~102㎡</td>\n",
       "    </tr>\n",
       "    <tr>\n",
       "      <th>4083</th>\n",
       "      <td>서울</td>\n",
       "      <td>2019</td>\n",
       "      <td>10</td>\n",
       "      <td>12728.0</td>\n",
       "      <td>42002.4</td>\n",
       "      <td>85㎡~102㎡</td>\n",
       "    </tr>\n",
       "    <tr>\n",
       "      <th>4168</th>\n",
       "      <td>서울</td>\n",
       "      <td>2019</td>\n",
       "      <td>11</td>\n",
       "      <td>12728.0</td>\n",
       "      <td>42002.4</td>\n",
       "      <td>85㎡~102㎡</td>\n",
       "    </tr>\n",
       "    <tr>\n",
       "      <th>4253</th>\n",
       "      <td>서울</td>\n",
       "      <td>2019</td>\n",
       "      <td>12</td>\n",
       "      <td>12728.0</td>\n",
       "      <td>42002.4</td>\n",
       "      <td>85㎡~102㎡</td>\n",
       "    </tr>\n",
       "  </tbody>\n",
       "</table>\n",
       "</div>"
      ],
      "text/plain": [
       "     지역명    연도   월     분양가격   평당분양가격      전용면적\n",
       "3743  서울  2019   6  12728.0  42002.4  85㎡~102㎡\n",
       "3828  서울  2019   7  12728.0  42002.4  85㎡~102㎡\n",
       "3913  서울  2019   8  12728.0  42002.4  85㎡~102㎡\n",
       "3998  서울  2019   9  12728.0  42002.4  85㎡~102㎡\n",
       "4083  서울  2019  10  12728.0  42002.4  85㎡~102㎡\n",
       "4168  서울  2019  11  12728.0  42002.4  85㎡~102㎡\n",
       "4253  서울  2019  12  12728.0  42002.4  85㎡~102㎡"
      ]
     },
     "execution_count": 91,
     "metadata": {},
     "output_type": "execute_result"
    }
   ],
   "source": [
    "df_last[df_last[\"평당분양가격\"] > 30000]"
   ]
  },
  {
   "cell_type": "code",
   "execution_count": null,
   "id": "aea6fc55",
   "metadata": {},
   "outputs": [],
   "source": []
  }
 ],
 "metadata": {
  "kernelspec": {
   "display_name": "Python 3 (ipykernel)",
   "language": "python",
   "name": "python3"
  },
  "language_info": {
   "codemirror_mode": {
    "name": "ipython",
    "version": 3
   },
   "file_extension": ".py",
   "mimetype": "text/x-python",
   "name": "python",
   "nbconvert_exporter": "python",
   "pygments_lexer": "ipython3",
   "version": "3.9.7"
  },
  "toc": {
   "base_numbering": 1,
   "nav_menu": {},
   "number_sections": true,
   "sideBar": true,
   "skip_h1_title": false,
   "title_cell": "Table of Contents",
   "title_sidebar": "Contents",
   "toc_cell": false,
   "toc_position": {
    "height": "calc(100% - 180px)",
    "left": "10px",
    "top": "150px",
    "width": "165px"
   },
   "toc_section_display": true,
   "toc_window_display": true
  }
 },
 "nbformat": 4,
 "nbformat_minor": 5
}
